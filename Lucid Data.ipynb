{
 "cells": [
  {
   "cell_type": "code",
   "execution_count": 686,
   "metadata": {},
   "outputs": [],
   "source": [
    "import os\n",
    "import numpy as np\n",
    "import pandas as pd\n",
    "from datetime import datetime"
   ]
  },
  {
   "cell_type": "code",
   "execution_count": 1609,
   "metadata": {},
   "outputs": [],
   "source": [
    "os.chdir('/Users/zacharychild/desktop')"
   ]
  },
  {
   "cell_type": "code",
   "execution_count": 1693,
   "metadata": {},
   "outputs": [],
   "source": [
    "df1 = pd.read_csv('paywall_data.csv')\n",
    "df2 = pd.read_csv('paywall_payment_data.csv')\n",
    "df3=df2.merge(df1,left_index=False,right_index=False,how='left', on=['id'])\n",
    "df3=df3.sort_values('id', axis=0, ascending=True, inplace=False)\n",
    "#df3=df3.reset_index"
   ]
  },
  {
   "cell_type": "code",
   "execution_count": 1694,
   "metadata": {},
   "outputs": [],
   "source": [
    "df3 = df3.dropna(subset=[\n",
    " '(Pw) Analytics',\n",
    " '(Pw) Backup-restore',\n",
    " '(Pw) Color-Management',\n",
    " '(Pw) Custom-Fonts',\n",
    " '(Pw) Downloadable-Publication',\n",
    " '(Pw) Email-Thumb',\n",
    " '(Pw) Embedding',\n",
    " '(Pw) Page-Limit',\n",
    " '(Pw) Pdf-dpi',\n",
    " '(Pw) Premium Templates',\n",
    " '(Pw) Pub-Password',\n",
    " '(Pw) Publish-banner',\n",
    " '(Pw) Revision-history',\n",
    " '(Pw) Storage',\n",
    " '(Pw) Unlicensed/View Only'], how='all')"
   ]
  },
  {
   "cell_type": "code",
   "execution_count": 1696,
   "metadata": {},
   "outputs": [
    {
     "data": {
      "text/html": [
       "<div>\n",
       "<style scoped>\n",
       "    .dataframe tbody tr th:only-of-type {\n",
       "        vertical-align: middle;\n",
       "    }\n",
       "\n",
       "    .dataframe tbody tr th {\n",
       "        vertical-align: top;\n",
       "    }\n",
       "\n",
       "    .dataframe thead th {\n",
       "        text-align: right;\n",
       "    }\n",
       "</style>\n",
       "<table border=\"1\" class=\"dataframe\">\n",
       "  <thead>\n",
       "    <tr style=\"text-align: right;\">\n",
       "      <th></th>\n",
       "      <th>id</th>\n",
       "      <th>First Payment Date</th>\n",
       "      <th>First Payment Value</th>\n",
       "      <th>Paid?</th>\n",
       "      <th>Registration Date</th>\n",
       "      <th>(Pw) Analytics</th>\n",
       "      <th>(Pw) Backup-restore</th>\n",
       "      <th>(Pw) Color-Management</th>\n",
       "      <th>(Pw) Custom-Fonts</th>\n",
       "      <th>(Pw) Downloadable-Publication</th>\n",
       "      <th>(Pw) Email-Thumb</th>\n",
       "      <th>(Pw) Embedding</th>\n",
       "      <th>(Pw) Page-Limit</th>\n",
       "      <th>(Pw) Pdf-dpi</th>\n",
       "      <th>(Pw) Premium Templates</th>\n",
       "      <th>(Pw) Pub-Password</th>\n",
       "      <th>(Pw) Publish-banner</th>\n",
       "      <th>(Pw) Revision-history</th>\n",
       "      <th>(Pw) Storage</th>\n",
       "      <th>(Pw) Unlicensed/View Only</th>\n",
       "    </tr>\n",
       "  </thead>\n",
       "  <tbody>\n",
       "    <tr>\n",
       "      <th>55260</th>\n",
       "      <td>76916</td>\n",
       "      <td>NaN</td>\n",
       "      <td>NaN</td>\n",
       "      <td>0</td>\n",
       "      <td>10/28/13 21:41</td>\n",
       "      <td>NaN</td>\n",
       "      <td>NaN</td>\n",
       "      <td>NaN</td>\n",
       "      <td>1/16/15 2:37</td>\n",
       "      <td>NaN</td>\n",
       "      <td>NaN</td>\n",
       "      <td>NaN</td>\n",
       "      <td>NaN</td>\n",
       "      <td>1/14/16 17:14</td>\n",
       "      <td>3/22/16 17:26</td>\n",
       "      <td>NaN</td>\n",
       "      <td>1/14/16 17:24</td>\n",
       "      <td>NaN</td>\n",
       "      <td>4/2/16 9:29</td>\n",
       "      <td>NaN</td>\n",
       "    </tr>\n",
       "    <tr>\n",
       "      <th>55258</th>\n",
       "      <td>129541</td>\n",
       "      <td>NaN</td>\n",
       "      <td>NaN</td>\n",
       "      <td>0</td>\n",
       "      <td>3/29/16 7:59</td>\n",
       "      <td>NaN</td>\n",
       "      <td>NaN</td>\n",
       "      <td>NaN</td>\n",
       "      <td>NaN</td>\n",
       "      <td>NaN</td>\n",
       "      <td>NaN</td>\n",
       "      <td>NaN</td>\n",
       "      <td>NaN</td>\n",
       "      <td>NaN</td>\n",
       "      <td>NaN</td>\n",
       "      <td>NaN</td>\n",
       "      <td>NaN</td>\n",
       "      <td>NaN</td>\n",
       "      <td>NaN</td>\n",
       "      <td>2/1/16 14:12</td>\n",
       "    </tr>\n",
       "    <tr>\n",
       "      <th>55257</th>\n",
       "      <td>136845</td>\n",
       "      <td>3/17/16 9:42 AM</td>\n",
       "      <td>19.95</td>\n",
       "      <td>1</td>\n",
       "      <td>3/17/16 3:42</td>\n",
       "      <td>NaN</td>\n",
       "      <td>NaN</td>\n",
       "      <td>NaN</td>\n",
       "      <td>NaN</td>\n",
       "      <td>NaN</td>\n",
       "      <td>NaN</td>\n",
       "      <td>NaN</td>\n",
       "      <td>NaN</td>\n",
       "      <td>NaN</td>\n",
       "      <td>NaN</td>\n",
       "      <td>NaN</td>\n",
       "      <td>NaN</td>\n",
       "      <td>NaN</td>\n",
       "      <td>NaN</td>\n",
       "      <td>3/17/16 5:52</td>\n",
       "    </tr>\n",
       "    <tr>\n",
       "      <th>55255</th>\n",
       "      <td>162124</td>\n",
       "      <td>NaN</td>\n",
       "      <td>NaN</td>\n",
       "      <td>0</td>\n",
       "      <td>11/20/13 18:52</td>\n",
       "      <td>NaN</td>\n",
       "      <td>NaN</td>\n",
       "      <td>1/4/16 18:36</td>\n",
       "      <td>NaN</td>\n",
       "      <td>NaN</td>\n",
       "      <td>NaN</td>\n",
       "      <td>NaN</td>\n",
       "      <td>NaN</td>\n",
       "      <td>NaN</td>\n",
       "      <td>NaN</td>\n",
       "      <td>NaN</td>\n",
       "      <td>NaN</td>\n",
       "      <td>NaN</td>\n",
       "      <td>1/25/15 12:44</td>\n",
       "      <td>1/30/15 2:34</td>\n",
       "    </tr>\n",
       "    <tr>\n",
       "      <th>55254</th>\n",
       "      <td>245029</td>\n",
       "      <td>NaN</td>\n",
       "      <td>NaN</td>\n",
       "      <td>0</td>\n",
       "      <td>3/19/16 19:45</td>\n",
       "      <td>NaN</td>\n",
       "      <td>NaN</td>\n",
       "      <td>3/20/16 17:18</td>\n",
       "      <td>NaN</td>\n",
       "      <td>NaN</td>\n",
       "      <td>NaN</td>\n",
       "      <td>NaN</td>\n",
       "      <td>NaN</td>\n",
       "      <td>NaN</td>\n",
       "      <td>NaN</td>\n",
       "      <td>NaN</td>\n",
       "      <td>NaN</td>\n",
       "      <td>NaN</td>\n",
       "      <td>NaN</td>\n",
       "      <td>NaN</td>\n",
       "    </tr>\n",
       "  </tbody>\n",
       "</table>\n",
       "</div>"
      ],
      "text/plain": [
       "           id First Payment Date  First Payment Value  Paid?  \\\n",
       "55260   76916                NaN                  NaN      0   \n",
       "55258  129541                NaN                  NaN      0   \n",
       "55257  136845    3/17/16 9:42 AM                19.95      1   \n",
       "55255  162124                NaN                  NaN      0   \n",
       "55254  245029                NaN                  NaN      0   \n",
       "\n",
       "      Registration Date (Pw) Analytics (Pw) Backup-restore  \\\n",
       "55260    10/28/13 21:41            NaN                 NaN   \n",
       "55258      3/29/16 7:59            NaN                 NaN   \n",
       "55257      3/17/16 3:42            NaN                 NaN   \n",
       "55255    11/20/13 18:52            NaN                 NaN   \n",
       "55254     3/19/16 19:45            NaN                 NaN   \n",
       "\n",
       "      (Pw) Color-Management (Pw) Custom-Fonts (Pw) Downloadable-Publication  \\\n",
       "55260                   NaN      1/16/15 2:37                           NaN   \n",
       "55258                   NaN               NaN                           NaN   \n",
       "55257                   NaN               NaN                           NaN   \n",
       "55255          1/4/16 18:36               NaN                           NaN   \n",
       "55254         3/20/16 17:18               NaN                           NaN   \n",
       "\n",
       "      (Pw) Email-Thumb (Pw) Embedding (Pw) Page-Limit   (Pw) Pdf-dpi  \\\n",
       "55260              NaN            NaN             NaN  1/14/16 17:14   \n",
       "55258              NaN            NaN             NaN            NaN   \n",
       "55257              NaN            NaN             NaN            NaN   \n",
       "55255              NaN            NaN             NaN            NaN   \n",
       "55254              NaN            NaN             NaN            NaN   \n",
       "\n",
       "      (Pw) Premium Templates (Pw) Pub-Password (Pw) Publish-banner  \\\n",
       "55260          3/22/16 17:26               NaN       1/14/16 17:24   \n",
       "55258                    NaN               NaN                 NaN   \n",
       "55257                    NaN               NaN                 NaN   \n",
       "55255                    NaN               NaN                 NaN   \n",
       "55254                    NaN               NaN                 NaN   \n",
       "\n",
       "      (Pw) Revision-history   (Pw) Storage (Pw) Unlicensed/View Only  \n",
       "55260                   NaN    4/2/16 9:29                       NaN  \n",
       "55258                   NaN            NaN              2/1/16 14:12  \n",
       "55257                   NaN            NaN              3/17/16 5:52  \n",
       "55255                   NaN  1/25/15 12:44              1/30/15 2:34  \n",
       "55254                   NaN            NaN                       NaN  "
      ]
     },
     "execution_count": 1696,
     "metadata": {},
     "output_type": "execute_result"
    }
   ],
   "source": [
    "df3.head()"
   ]
  },
  {
   "cell_type": "code",
   "execution_count": 1698,
   "metadata": {},
   "outputs": [
    {
     "data": {
      "text/plain": [
       "Index(['id', 'First Payment Date', 'First Payment Value', 'Paid?',\n",
       "       'Registration Date', '(Pw) Analytics', '(Pw) Backup-restore',\n",
       "       '(Pw) Color-Management', '(Pw) Custom-Fonts',\n",
       "       '(Pw) Downloadable-Publication', '(Pw) Email-Thumb', '(Pw) Embedding',\n",
       "       '(Pw) Page-Limit', '(Pw) Pdf-dpi', '(Pw) Premium Templates',\n",
       "       '(Pw) Pub-Password', '(Pw) Publish-banner', '(Pw) Revision-history',\n",
       "       '(Pw) Storage', '(Pw) Unlicensed/View Only'],\n",
       "      dtype='object')"
      ]
     },
     "execution_count": 1698,
     "metadata": {},
     "output_type": "execute_result"
    }
   ],
   "source": [
    "df3.columns"
   ]
  },
  {
   "cell_type": "code",
   "execution_count": 1699,
   "metadata": {},
   "outputs": [],
   "source": [
    "df3['MISSING'] = df3.apply(lambda x: x.isnull().sum(), axis='columns')"
   ]
  },
  {
   "cell_type": "code",
   "execution_count": 1700,
   "metadata": {},
   "outputs": [
    {
     "data": {
      "text/plain": [
       "16    7977\n",
       "15    2920\n",
       "14    1680\n",
       "13     805\n",
       "12     411\n",
       "11     199\n",
       "10      83\n",
       "9       39\n",
       "8       15\n",
       "7        7\n",
       "6        1\n",
       "Name: MISSING, dtype: int64"
      ]
     },
     "execution_count": 1700,
     "metadata": {},
     "output_type": "execute_result"
    }
   ],
   "source": [
    "df3['MISSING'].value_counts()"
   ]
  },
  {
   "cell_type": "code",
   "execution_count": 1701,
   "metadata": {},
   "outputs": [],
   "source": [
    "df3 = df3[df3.MISSING != 17]"
   ]
  },
  {
   "cell_type": "code",
   "execution_count": 1702,
   "metadata": {},
   "outputs": [],
   "source": [
    "df3 = df3[df3['Paid?'] == 1]"
   ]
  },
  {
   "cell_type": "code",
   "execution_count": 1703,
   "metadata": {},
   "outputs": [],
   "source": [
    "df3.loc[df3['(Pw) Analytics'].isnull(), '(Pw) Analytics']=np.nan\n",
    "df3.loc[df3['(Pw) Backup-restore'].isnull(), '(Pw) Backup-restore']=np.nan\n",
    "df3.loc[df3['(Pw) Color-Management'].isnull(), '(Pw) Color-Management']=np.nan\n",
    "df3.loc[df3['(Pw) Custom-Fonts'].isnull(), '(Pw) Custom-Fonts']=np.nan\n",
    "df3.loc[df3['(Pw) Downloadable-Publication'].isnull(), '(Pw) Downloadable-Publication']=np.nan\n",
    "df3.loc[df3['(Pw) Email-Thumb'].isnull(), '(Pw) Email-Thumb']=np.nan\n",
    "df3.loc[df3['(Pw) Embedding'].isnull(), '(Pw) Embedding']=np.nan\n",
    "df3.loc[df3['(Pw) Page-Limit'].isnull(), '(Pw) Page-Limit']=np.nan\n",
    "df3.loc[df3['(Pw) Pdf-dpi'].isnull(), '(Pw) Pdf-dpi']=np.nan\n",
    "df3.loc[df3['(Pw) Premium Templates'].isnull(), '(Pw) Premium Templates']=np.nan\n",
    "df3.loc[df3['(Pw) Pub-Password'].isnull(), '(Pw) Pub-Password']=np.nan\n",
    "df3.loc[df3['(Pw) Publish-banner'].isnull(), '(Pw) Publish-banner']=np.nan\n",
    "df3.loc[df3['(Pw) Revision-history'].isnull(), '(Pw) Revision-history']=np.nan\n",
    "df3.loc[df3['(Pw) Storage'].isnull(), '(Pw) Storage']=np.nan\n",
    "df3.loc[df3['(Pw) Unlicensed/View Only'].isnull(), '(Pw) Unlicensed/View Only']=np.nan"
   ]
  },
  {
   "cell_type": "code",
   "execution_count": 1704,
   "metadata": {},
   "outputs": [],
   "source": [
    "df3['Registration Date'] =  pd.to_datetime(df3['Registration Date'], format='%m/%d/%y %H:%M').astype(int)\n",
    "df3['(Pw) Analytics'] =  pd.to_datetime(df3['(Pw) Analytics'], format='%m/%d/%y %H:%M').astype(int)\n",
    "df3['(Pw) Backup-restore'] =  pd.to_datetime(df3['(Pw) Backup-restore'], format='%m/%d/%y %H:%M').astype(int)\n",
    "df3['(Pw) Color-Management'] =  pd.to_datetime(df3['(Pw) Color-Management'], format='%m/%d/%y %H:%M').astype(int)\n",
    "df3['(Pw) Custom-Fonts'] =  pd.to_datetime(df3['(Pw) Custom-Fonts'], format='%m/%d/%y %H:%M').astype(int)\n",
    "df3['(Pw) Downloadable-Publication'] =  pd.to_datetime(df3['(Pw) Downloadable-Publication'], format='%m/%d/%y %H:%M').astype(int)\n",
    "df3['(Pw) Email-Thumb'] =  pd.to_datetime(df3['(Pw) Email-Thumb'], format='%m/%d/%y %H:%M').astype(int)\n",
    "df3['(Pw) Embedding'] =  pd.to_datetime(df3['(Pw) Embedding'], format='%m/%d/%y %H:%M').astype(int)\n",
    "df3['(Pw) Page-Limit'] =  pd.to_datetime(df3['(Pw) Page-Limit'], format='%m/%d/%y %H:%M').astype(int)\n",
    "df3['(Pw) Pdf-dpi'] =  pd.to_datetime(df3['(Pw) Pdf-dpi'], format='%m/%d/%y %H:%M').astype(int)\n",
    "df3['(Pw) Premium Templates'] =  pd.to_datetime(df3['(Pw) Premium Templates'], format='%m/%d/%y %H:%M').astype(int)\n",
    "df3['(Pw) Pub-Password'] =  pd.to_datetime(df3['(Pw) Pub-Password'], format='%m/%d/%y %H:%M').astype(int)\n",
    "df3['(Pw) Publish-banner'] =  pd.to_datetime(df3['(Pw) Publish-banner'], format='%m/%d/%y %H:%M').astype(int)\n",
    "df3['(Pw) Revision-history'] =  pd.to_datetime(df3['(Pw) Revision-history'], format='%m/%d/%y %H:%M').astype(int)\n",
    "df3['(Pw) Storage'] =  pd.to_datetime(df3['(Pw) Storage'], format='%m/%d/%y %H:%M').astype(int)\n",
    "df3['(Pw) Unlicensed/View Only'] =  pd.to_datetime(df3['(Pw) Unlicensed/View Only'], format='%m/%d/%y %H:%M').astype(int)"
   ]
  },
  {
   "cell_type": "code",
   "execution_count": 1705,
   "metadata": {},
   "outputs": [
    {
     "data": {
      "text/html": [
       "<div>\n",
       "<style scoped>\n",
       "    .dataframe tbody tr th:only-of-type {\n",
       "        vertical-align: middle;\n",
       "    }\n",
       "\n",
       "    .dataframe tbody tr th {\n",
       "        vertical-align: top;\n",
       "    }\n",
       "\n",
       "    .dataframe thead th {\n",
       "        text-align: right;\n",
       "    }\n",
       "</style>\n",
       "<table border=\"1\" class=\"dataframe\">\n",
       "  <thead>\n",
       "    <tr style=\"text-align: right;\">\n",
       "      <th></th>\n",
       "      <th>id</th>\n",
       "      <th>First Payment Date</th>\n",
       "      <th>First Payment Value</th>\n",
       "      <th>Paid?</th>\n",
       "      <th>Registration Date</th>\n",
       "      <th>(Pw) Analytics</th>\n",
       "      <th>(Pw) Backup-restore</th>\n",
       "      <th>(Pw) Color-Management</th>\n",
       "      <th>(Pw) Custom-Fonts</th>\n",
       "      <th>(Pw) Downloadable-Publication</th>\n",
       "      <th>...</th>\n",
       "      <th>(Pw) Embedding</th>\n",
       "      <th>(Pw) Page-Limit</th>\n",
       "      <th>(Pw) Pdf-dpi</th>\n",
       "      <th>(Pw) Premium Templates</th>\n",
       "      <th>(Pw) Pub-Password</th>\n",
       "      <th>(Pw) Publish-banner</th>\n",
       "      <th>(Pw) Revision-history</th>\n",
       "      <th>(Pw) Storage</th>\n",
       "      <th>(Pw) Unlicensed/View Only</th>\n",
       "      <th>MISSING</th>\n",
       "    </tr>\n",
       "  </thead>\n",
       "  <tbody>\n",
       "    <tr>\n",
       "      <th>55257</th>\n",
       "      <td>136845</td>\n",
       "      <td>3/17/16 9:42 AM</td>\n",
       "      <td>19.95</td>\n",
       "      <td>1</td>\n",
       "      <td>1458186120000000000</td>\n",
       "      <td>-9223372036854775808</td>\n",
       "      <td>-9223372036854775808</td>\n",
       "      <td>-9223372036854775808</td>\n",
       "      <td>-9223372036854775808</td>\n",
       "      <td>-9223372036854775808</td>\n",
       "      <td>...</td>\n",
       "      <td>-9223372036854775808</td>\n",
       "      <td>-9223372036854775808</td>\n",
       "      <td>-9223372036854775808</td>\n",
       "      <td>-9223372036854775808</td>\n",
       "      <td>-9223372036854775808</td>\n",
       "      <td>-9223372036854775808</td>\n",
       "      <td>-9223372036854775808</td>\n",
       "      <td>-9223372036854775808</td>\n",
       "      <td>1458193920000000000</td>\n",
       "      <td>14</td>\n",
       "    </tr>\n",
       "    <tr>\n",
       "      <th>55246</th>\n",
       "      <td>424856</td>\n",
       "      <td>3/15/16 6:21 AM</td>\n",
       "      <td>9.95</td>\n",
       "      <td>1</td>\n",
       "      <td>1457553720000000000</td>\n",
       "      <td>-9223372036854775808</td>\n",
       "      <td>1457555940000000000</td>\n",
       "      <td>1451909880000000000</td>\n",
       "      <td>-9223372036854775808</td>\n",
       "      <td>-9223372036854775808</td>\n",
       "      <td>...</td>\n",
       "      <td>-9223372036854775808</td>\n",
       "      <td>-9223372036854775808</td>\n",
       "      <td>1457827620000000000</td>\n",
       "      <td>-9223372036854775808</td>\n",
       "      <td>-9223372036854775808</td>\n",
       "      <td>-9223372036854775808</td>\n",
       "      <td>-9223372036854775808</td>\n",
       "      <td>1457555820000000000</td>\n",
       "      <td>-9223372036854775808</td>\n",
       "      <td>11</td>\n",
       "    </tr>\n",
       "    <tr>\n",
       "      <th>55244</th>\n",
       "      <td>437065</td>\n",
       "      <td>2/9/16 9:37 PM</td>\n",
       "      <td>71.40</td>\n",
       "      <td>1</td>\n",
       "      <td>1456841460000000000</td>\n",
       "      <td>-9223372036854775808</td>\n",
       "      <td>-9223372036854775808</td>\n",
       "      <td>1461170100000000000</td>\n",
       "      <td>-9223372036854775808</td>\n",
       "      <td>1455802800000000000</td>\n",
       "      <td>...</td>\n",
       "      <td>-9223372036854775808</td>\n",
       "      <td>1455053580000000000</td>\n",
       "      <td>1454448300000000000</td>\n",
       "      <td>1453739520000000000</td>\n",
       "      <td>-9223372036854775808</td>\n",
       "      <td>1454436960000000000</td>\n",
       "      <td>-9223372036854775808</td>\n",
       "      <td>-9223372036854775808</td>\n",
       "      <td>-9223372036854775808</td>\n",
       "      <td>9</td>\n",
       "    </tr>\n",
       "    <tr>\n",
       "      <th>55227</th>\n",
       "      <td>720703</td>\n",
       "      <td>3/15/16 1:28 PM</td>\n",
       "      <td>160.00</td>\n",
       "      <td>1</td>\n",
       "      <td>1394292540000000000</td>\n",
       "      <td>-9223372036854775808</td>\n",
       "      <td>-9223372036854775808</td>\n",
       "      <td>-9223372036854775808</td>\n",
       "      <td>-9223372036854775808</td>\n",
       "      <td>-9223372036854775808</td>\n",
       "      <td>...</td>\n",
       "      <td>-9223372036854775808</td>\n",
       "      <td>-9223372036854775808</td>\n",
       "      <td>-9223372036854775808</td>\n",
       "      <td>-9223372036854775808</td>\n",
       "      <td>-9223372036854775808</td>\n",
       "      <td>-9223372036854775808</td>\n",
       "      <td>-9223372036854775808</td>\n",
       "      <td>1457936880000000000</td>\n",
       "      <td>1458049380000000000</td>\n",
       "      <td>13</td>\n",
       "    </tr>\n",
       "    <tr>\n",
       "      <th>55202</th>\n",
       "      <td>1467763</td>\n",
       "      <td>4/24/16 7:29 AM</td>\n",
       "      <td>71.40</td>\n",
       "      <td>1</td>\n",
       "      <td>1455015420000000000</td>\n",
       "      <td>-9223372036854775808</td>\n",
       "      <td>-9223372036854775808</td>\n",
       "      <td>-9223372036854775808</td>\n",
       "      <td>-9223372036854775808</td>\n",
       "      <td>-9223372036854775808</td>\n",
       "      <td>...</td>\n",
       "      <td>-9223372036854775808</td>\n",
       "      <td>1461482760000000000</td>\n",
       "      <td>1460711220000000000</td>\n",
       "      <td>-9223372036854775808</td>\n",
       "      <td>-9223372036854775808</td>\n",
       "      <td>-9223372036854775808</td>\n",
       "      <td>-9223372036854775808</td>\n",
       "      <td>-9223372036854775808</td>\n",
       "      <td>-9223372036854775808</td>\n",
       "      <td>13</td>\n",
       "    </tr>\n",
       "  </tbody>\n",
       "</table>\n",
       "<p>5 rows × 21 columns</p>\n",
       "</div>"
      ],
      "text/plain": [
       "            id First Payment Date  First Payment Value  Paid?  \\\n",
       "55257   136845    3/17/16 9:42 AM                19.95      1   \n",
       "55246   424856    3/15/16 6:21 AM                 9.95      1   \n",
       "55244   437065     2/9/16 9:37 PM                71.40      1   \n",
       "55227   720703    3/15/16 1:28 PM               160.00      1   \n",
       "55202  1467763    4/24/16 7:29 AM                71.40      1   \n",
       "\n",
       "         Registration Date       (Pw) Analytics  (Pw) Backup-restore  \\\n",
       "55257  1458186120000000000 -9223372036854775808 -9223372036854775808   \n",
       "55246  1457553720000000000 -9223372036854775808  1457555940000000000   \n",
       "55244  1456841460000000000 -9223372036854775808 -9223372036854775808   \n",
       "55227  1394292540000000000 -9223372036854775808 -9223372036854775808   \n",
       "55202  1455015420000000000 -9223372036854775808 -9223372036854775808   \n",
       "\n",
       "       (Pw) Color-Management    (Pw) Custom-Fonts  \\\n",
       "55257   -9223372036854775808 -9223372036854775808   \n",
       "55246    1451909880000000000 -9223372036854775808   \n",
       "55244    1461170100000000000 -9223372036854775808   \n",
       "55227   -9223372036854775808 -9223372036854775808   \n",
       "55202   -9223372036854775808 -9223372036854775808   \n",
       "\n",
       "       (Pw) Downloadable-Publication   ...          (Pw) Embedding  \\\n",
       "55257           -9223372036854775808   ...    -9223372036854775808   \n",
       "55246           -9223372036854775808   ...    -9223372036854775808   \n",
       "55244            1455802800000000000   ...    -9223372036854775808   \n",
       "55227           -9223372036854775808   ...    -9223372036854775808   \n",
       "55202           -9223372036854775808   ...    -9223372036854775808   \n",
       "\n",
       "           (Pw) Page-Limit         (Pw) Pdf-dpi  (Pw) Premium Templates  \\\n",
       "55257 -9223372036854775808 -9223372036854775808    -9223372036854775808   \n",
       "55246 -9223372036854775808  1457827620000000000    -9223372036854775808   \n",
       "55244  1455053580000000000  1454448300000000000     1453739520000000000   \n",
       "55227 -9223372036854775808 -9223372036854775808    -9223372036854775808   \n",
       "55202  1461482760000000000  1460711220000000000    -9223372036854775808   \n",
       "\n",
       "         (Pw) Pub-Password  (Pw) Publish-banner  (Pw) Revision-history  \\\n",
       "55257 -9223372036854775808 -9223372036854775808   -9223372036854775808   \n",
       "55246 -9223372036854775808 -9223372036854775808   -9223372036854775808   \n",
       "55244 -9223372036854775808  1454436960000000000   -9223372036854775808   \n",
       "55227 -9223372036854775808 -9223372036854775808   -9223372036854775808   \n",
       "55202 -9223372036854775808 -9223372036854775808   -9223372036854775808   \n",
       "\n",
       "              (Pw) Storage  (Pw) Unlicensed/View Only  MISSING  \n",
       "55257 -9223372036854775808        1458193920000000000       14  \n",
       "55246  1457555820000000000       -9223372036854775808       11  \n",
       "55244 -9223372036854775808       -9223372036854775808        9  \n",
       "55227  1457936880000000000        1458049380000000000       13  \n",
       "55202 -9223372036854775808       -9223372036854775808       13  \n",
       "\n",
       "[5 rows x 21 columns]"
      ]
     },
     "execution_count": 1705,
     "metadata": {},
     "output_type": "execute_result"
    }
   ],
   "source": [
    "df3.head()"
   ]
  },
  {
   "cell_type": "code",
   "execution_count": 1706,
   "metadata": {},
   "outputs": [],
   "source": [
    "df3['Valuemax']=df3[['(Pw) Analytics','(Pw) Backup-restore','(Pw) Color-Management',\n",
    "       '(Pw) Custom-Fonts','(Pw) Downloadable-Publication','(Pw) Email-Thumb','(Pw) Embedding','(Pw) Page-Limit',\n",
    "       '(Pw) Pdf-dpi','(Pw) Premium Templates','(Pw) Pub-Password','(Pw) Publish-banner','(Pw) Revision-history',\n",
    "       '(Pw) Storage','(Pw) Unlicensed/View Only']].idxmax(axis=1)"
   ]
  },
  {
   "cell_type": "code",
   "execution_count": 1707,
   "metadata": {},
   "outputs": [
    {
     "data": {
      "text/plain": [
       "(Pw) Color-Management            360\n",
       "(Pw) Page-Limit                  217\n",
       "(Pw) Custom-Fonts                212\n",
       "(Pw) Storage                     210\n",
       "(Pw) Pdf-dpi                     164\n",
       "(Pw) Downloadable-Publication    131\n",
       "(Pw) Email-Thumb                  99\n",
       "(Pw) Premium Templates            28\n",
       "(Pw) Analytics                    28\n",
       "(Pw) Embedding                    26\n",
       "(Pw) Pub-Password                 10\n",
       "(Pw) Unlicensed/View Only          8\n",
       "(Pw) Publish-banner                7\n",
       "(Pw) Backup-restore                6\n",
       "(Pw) Revision-history              1\n",
       "Name: Valuemax, dtype: int64"
      ]
     },
     "execution_count": 1707,
     "metadata": {},
     "output_type": "execute_result"
    }
   ],
   "source": [
    "df3['Valuemax'].value_counts()"
   ]
  },
  {
   "cell_type": "code",
   "execution_count": 1708,
   "metadata": {},
   "outputs": [
    {
     "data": {
      "text/plain": [
       "1507"
      ]
     },
     "execution_count": 1708,
     "metadata": {},
     "output_type": "execute_result"
    }
   ],
   "source": [
    "len(df3['Valuemax'])"
   ]
  },
  {
   "cell_type": "code",
   "execution_count": 1709,
   "metadata": {},
   "outputs": [],
   "source": [
    "df4=df3[['First Payment Value','Valuemax']]"
   ]
  },
  {
   "cell_type": "code",
   "execution_count": 1710,
   "metadata": {},
   "outputs": [
    {
     "data": {
      "text/html": [
       "<div>\n",
       "<style scoped>\n",
       "    .dataframe tbody tr th:only-of-type {\n",
       "        vertical-align: middle;\n",
       "    }\n",
       "\n",
       "    .dataframe tbody tr th {\n",
       "        vertical-align: top;\n",
       "    }\n",
       "\n",
       "    .dataframe thead th {\n",
       "        text-align: right;\n",
       "    }\n",
       "</style>\n",
       "<table border=\"1\" class=\"dataframe\">\n",
       "  <thead>\n",
       "    <tr style=\"text-align: right;\">\n",
       "      <th></th>\n",
       "      <th>First Payment Value</th>\n",
       "      <th>Valuemax</th>\n",
       "    </tr>\n",
       "  </thead>\n",
       "  <tbody>\n",
       "    <tr>\n",
       "      <th>55257</th>\n",
       "      <td>19.95</td>\n",
       "      <td>(Pw) Unlicensed/View Only</td>\n",
       "    </tr>\n",
       "    <tr>\n",
       "      <th>55246</th>\n",
       "      <td>9.95</td>\n",
       "      <td>(Pw) Pdf-dpi</td>\n",
       "    </tr>\n",
       "    <tr>\n",
       "      <th>55244</th>\n",
       "      <td>71.40</td>\n",
       "      <td>(Pw) Color-Management</td>\n",
       "    </tr>\n",
       "    <tr>\n",
       "      <th>55227</th>\n",
       "      <td>160.00</td>\n",
       "      <td>(Pw) Unlicensed/View Only</td>\n",
       "    </tr>\n",
       "    <tr>\n",
       "      <th>55202</th>\n",
       "      <td>71.40</td>\n",
       "      <td>(Pw) Page-Limit</td>\n",
       "    </tr>\n",
       "  </tbody>\n",
       "</table>\n",
       "</div>"
      ],
      "text/plain": [
       "       First Payment Value                   Valuemax\n",
       "55257                19.95  (Pw) Unlicensed/View Only\n",
       "55246                 9.95               (Pw) Pdf-dpi\n",
       "55244                71.40      (Pw) Color-Management\n",
       "55227               160.00  (Pw) Unlicensed/View Only\n",
       "55202                71.40            (Pw) Page-Limit"
      ]
     },
     "execution_count": 1710,
     "metadata": {},
     "output_type": "execute_result"
    }
   ],
   "source": [
    "df4.head()"
   ]
  },
  {
   "cell_type": "code",
   "execution_count": 1711,
   "metadata": {},
   "outputs": [
    {
     "data": {
      "text/plain": [
       "(Pw) Color-Management            360\n",
       "(Pw) Page-Limit                  217\n",
       "(Pw) Custom-Fonts                212\n",
       "(Pw) Storage                     210\n",
       "(Pw) Pdf-dpi                     164\n",
       "(Pw) Downloadable-Publication    131\n",
       "(Pw) Email-Thumb                  99\n",
       "(Pw) Premium Templates            28\n",
       "(Pw) Analytics                    28\n",
       "(Pw) Embedding                    26\n",
       "(Pw) Pub-Password                 10\n",
       "(Pw) Unlicensed/View Only          8\n",
       "(Pw) Publish-banner                7\n",
       "(Pw) Backup-restore                6\n",
       "(Pw) Revision-history              1\n",
       "Name: Valuemax, dtype: int64"
      ]
     },
     "execution_count": 1711,
     "metadata": {},
     "output_type": "execute_result"
    }
   ],
   "source": [
    "df4['Valuemax'].value_counts()"
   ]
  },
  {
   "cell_type": "code",
   "execution_count": 1712,
   "metadata": {},
   "outputs": [
    {
     "data": {
      "text/html": [
       "<div>\n",
       "<style scoped>\n",
       "    .dataframe tbody tr th:only-of-type {\n",
       "        vertical-align: middle;\n",
       "    }\n",
       "\n",
       "    .dataframe tbody tr th {\n",
       "        vertical-align: top;\n",
       "    }\n",
       "\n",
       "    .dataframe thead th {\n",
       "        text-align: right;\n",
       "    }\n",
       "</style>\n",
       "<table border=\"1\" class=\"dataframe\">\n",
       "  <thead>\n",
       "    <tr style=\"text-align: right;\">\n",
       "      <th></th>\n",
       "      <th>First Payment Value</th>\n",
       "    </tr>\n",
       "    <tr>\n",
       "      <th>Valuemax</th>\n",
       "      <th></th>\n",
       "    </tr>\n",
       "  </thead>\n",
       "  <tbody>\n",
       "    <tr>\n",
       "      <th>(Pw) Color-Management</th>\n",
       "      <td>13165.12</td>\n",
       "    </tr>\n",
       "    <tr>\n",
       "      <th>(Pw) Storage</th>\n",
       "      <td>11541.18</td>\n",
       "    </tr>\n",
       "    <tr>\n",
       "      <th>(Pw) Custom-Fonts</th>\n",
       "      <td>9060.22</td>\n",
       "    </tr>\n",
       "    <tr>\n",
       "      <th>(Pw) Page-Limit</th>\n",
       "      <td>8614.83</td>\n",
       "    </tr>\n",
       "    <tr>\n",
       "      <th>(Pw) Downloadable-Publication</th>\n",
       "      <td>6828.74</td>\n",
       "    </tr>\n",
       "    <tr>\n",
       "      <th>(Pw) Pdf-dpi</th>\n",
       "      <td>5816.70</td>\n",
       "    </tr>\n",
       "    <tr>\n",
       "      <th>(Pw) Email-Thumb</th>\n",
       "      <td>4367.79</td>\n",
       "    </tr>\n",
       "    <tr>\n",
       "      <th>(Pw) Embedding</th>\n",
       "      <td>1613.60</td>\n",
       "    </tr>\n",
       "    <tr>\n",
       "      <th>(Pw) Premium Templates</th>\n",
       "      <td>1564.06</td>\n",
       "    </tr>\n",
       "    <tr>\n",
       "      <th>(Pw) Analytics</th>\n",
       "      <td>1228.27</td>\n",
       "    </tr>\n",
       "    <tr>\n",
       "      <th>(Pw) Publish-banner</th>\n",
       "      <td>445.45</td>\n",
       "    </tr>\n",
       "    <tr>\n",
       "      <th>(Pw) Unlicensed/View Only</th>\n",
       "      <td>431.25</td>\n",
       "    </tr>\n",
       "    <tr>\n",
       "      <th>(Pw) Pub-Password</th>\n",
       "      <td>262.45</td>\n",
       "    </tr>\n",
       "    <tr>\n",
       "      <th>(Pw) Backup-restore</th>\n",
       "      <td>161.15</td>\n",
       "    </tr>\n",
       "    <tr>\n",
       "      <th>(Pw) Revision-history</th>\n",
       "      <td>19.95</td>\n",
       "    </tr>\n",
       "  </tbody>\n",
       "</table>\n",
       "</div>"
      ],
      "text/plain": [
       "                               First Payment Value\n",
       "Valuemax                                          \n",
       "(Pw) Color-Management                     13165.12\n",
       "(Pw) Storage                              11541.18\n",
       "(Pw) Custom-Fonts                          9060.22\n",
       "(Pw) Page-Limit                            8614.83\n",
       "(Pw) Downloadable-Publication              6828.74\n",
       "(Pw) Pdf-dpi                               5816.70\n",
       "(Pw) Email-Thumb                           4367.79\n",
       "(Pw) Embedding                             1613.60\n",
       "(Pw) Premium Templates                     1564.06\n",
       "(Pw) Analytics                             1228.27\n",
       "(Pw) Publish-banner                         445.45\n",
       "(Pw) Unlicensed/View Only                   431.25\n",
       "(Pw) Pub-Password                           262.45\n",
       "(Pw) Backup-restore                         161.15\n",
       "(Pw) Revision-history                        19.95"
      ]
     },
     "execution_count": 1712,
     "metadata": {},
     "output_type": "execute_result"
    }
   ],
   "source": [
    "df4.groupby(by='Valuemax').sum().sort_values(by='First Payment Value' ,ascending=False)"
   ]
  },
  {
   "cell_type": "code",
   "execution_count": 1713,
   "metadata": {},
   "outputs": [
    {
     "data": {
      "text/plain": [
       "(1507, 22)"
      ]
     },
     "execution_count": 1713,
     "metadata": {},
     "output_type": "execute_result"
    }
   ],
   "source": [
    "df3.shape"
   ]
  },
  {
   "cell_type": "code",
   "execution_count": 1714,
   "metadata": {},
   "outputs": [],
   "source": [
    "df6 = pd.read_csv('paywall_data.csv')\n",
    "df7 = pd.read_csv('paywall_payment_data.csv')\n",
    "df8=df7.merge(df6,left_index=False,right_index=False,how='left', on=['id'])\n",
    "df8=df8.sort_values('id', axis=0, ascending=True, inplace=False)\n",
    "#df3=df3.reset_index"
   ]
  },
  {
   "cell_type": "code",
   "execution_count": 1715,
   "metadata": {},
   "outputs": [],
   "source": [
    "df8.loc[df8['(Pw) Analytics'].isnull(), '(Pw) Analytics']=np.nan\n",
    "df8.loc[df8['(Pw) Backup-restore'].isnull(), '(Pw) Backup-restore']=np.nan\n",
    "df8.loc[df8['(Pw) Color-Management'].isnull(), '(Pw) Color-Management']=np.nan\n",
    "df8.loc[df8['(Pw) Custom-Fonts'].isnull(), '(Pw) Custom-Fonts']=np.nan\n",
    "df8.loc[df8['(Pw) Downloadable-Publication'].isnull(), '(Pw) Downloadable-Publication']=np.nan\n",
    "df8.loc[df8['(Pw) Email-Thumb'].isnull(), '(Pw) Email-Thumb']=np.nan\n",
    "df8.loc[df8['(Pw) Embedding'].isnull(), '(Pw) Embedding']=np.nan\n",
    "df8.loc[df8['(Pw) Page-Limit'].isnull(), '(Pw) Page-Limit']=np.nan\n",
    "df8.loc[df8['(Pw) Pdf-dpi'].isnull(), '(Pw) Pdf-dpi']=np.nan\n",
    "df8.loc[df8['(Pw) Premium Templates'].isnull(), '(Pw) Premium Templates']=np.nan\n",
    "df8.loc[df8['(Pw) Pub-Password'].isnull(), '(Pw) Pub-Password']=np.nan\n",
    "df8.loc[df8['(Pw) Publish-banner'].isnull(), '(Pw) Publish-banner']=np.nan\n",
    "df8.loc[df8['(Pw) Revision-history'].isnull(), '(Pw) Revision-history']=np.nan\n",
    "df8.loc[df8['(Pw) Storage'].isnull(), '(Pw) Storage']=np.nan\n",
    "df8.loc[df8['(Pw) Unlicensed/View Only'].isnull(), '(Pw) Unlicensed/View Only']=np.nan"
   ]
  },
  {
   "cell_type": "code",
   "execution_count": 1716,
   "metadata": {},
   "outputs": [
    {
     "name": "stdout",
     "output_type": "stream",
     "text": [
      "<class 'pandas.core.frame.DataFrame'>\n",
      "Int64Index: 55263 entries, 55262 to 0\n",
      "Data columns (total 20 columns):\n",
      "id                               55263 non-null int64\n",
      "First Payment Date               2035 non-null object\n",
      "First Payment Value              2035 non-null float64\n",
      "Paid?                            55263 non-null int64\n",
      "Registration Date                55263 non-null object\n",
      "(Pw) Analytics                   270 non-null object\n",
      "(Pw) Backup-restore              64 non-null object\n",
      "(Pw) Color-Management            2838 non-null object\n",
      "(Pw) Custom-Fonts                2025 non-null object\n",
      "(Pw) Downloadable-Publication    1501 non-null object\n",
      "(Pw) Email-Thumb                 1260 non-null object\n",
      "(Pw) Embedding                   195 non-null object\n",
      "(Pw) Page-Limit                  3519 non-null object\n",
      "(Pw) Pdf-dpi                     4268 non-null object\n",
      "(Pw) Premium Templates           3400 non-null object\n",
      "(Pw) Pub-Password                297 non-null object\n",
      "(Pw) Publish-banner              725 non-null object\n",
      "(Pw) Revision-history            141 non-null object\n",
      "(Pw) Storage                     2786 non-null object\n",
      "(Pw) Unlicensed/View Only        132 non-null object\n",
      "dtypes: float64(1), int64(2), object(17)\n",
      "memory usage: 8.9+ MB\n"
     ]
    }
   ],
   "source": [
    "df8.info()"
   ]
  },
  {
   "cell_type": "code",
   "execution_count": 1720,
   "metadata": {},
   "outputs": [],
   "source": [
    "Conversion_Rate_Analytics = 28/270"
   ]
  },
  {
   "cell_type": "code",
   "execution_count": 1721,
   "metadata": {},
   "outputs": [],
   "source": [
    "Conversion_Rate_Backup = 6/64"
   ]
  },
  {
   "cell_type": "code",
   "execution_count": 1722,
   "metadata": {},
   "outputs": [],
   "source": [
    "Conversion_Rate_Color_Managment = 360/2838"
   ]
  },
  {
   "cell_type": "code",
   "execution_count": 1723,
   "metadata": {},
   "outputs": [],
   "source": [
    "Conversion_Rate_Fonts = 212/2025"
   ]
  },
  {
   "cell_type": "code",
   "execution_count": 1724,
   "metadata": {},
   "outputs": [],
   "source": [
    "Conversion_Rate_Downloadable = 131/1501"
   ]
  },
  {
   "cell_type": "code",
   "execution_count": 1725,
   "metadata": {},
   "outputs": [],
   "source": [
    "Conversion_Rate_Email = 99/1260"
   ]
  },
  {
   "cell_type": "code",
   "execution_count": 1726,
   "metadata": {},
   "outputs": [],
   "source": [
    "Conversion_Rate_Embedding = 26/195"
   ]
  },
  {
   "cell_type": "code",
   "execution_count": 1727,
   "metadata": {},
   "outputs": [],
   "source": [
    "Conversion_Rate_Page_Limit = 217/3519"
   ]
  },
  {
   "cell_type": "code",
   "execution_count": 1728,
   "metadata": {},
   "outputs": [],
   "source": [
    "Conversion_Rate_PDF = 164/4268"
   ]
  },
  {
   "cell_type": "code",
   "execution_count": 1729,
   "metadata": {},
   "outputs": [],
   "source": [
    "Conversion_Rate_Premium_Templates = 28/3400"
   ]
  },
  {
   "cell_type": "code",
   "execution_count": 1730,
   "metadata": {},
   "outputs": [],
   "source": [
    "Conversion_Rate_Pub_Password = 10/297"
   ]
  },
  {
   "cell_type": "code",
   "execution_count": 1731,
   "metadata": {},
   "outputs": [],
   "source": [
    "Conversion_Rate_Publish_Banner = 7/725"
   ]
  },
  {
   "cell_type": "code",
   "execution_count": 1732,
   "metadata": {},
   "outputs": [],
   "source": [
    "Conversion_Rate_Storage = 210/2786"
   ]
  },
  {
   "cell_type": "code",
   "execution_count": 1733,
   "metadata": {},
   "outputs": [],
   "source": [
    "Conversion_Rate_Revision_History = 1/141"
   ]
  },
  {
   "cell_type": "code",
   "execution_count": 1734,
   "metadata": {},
   "outputs": [],
   "source": [
    "Conversion_Rate_Unlicensed_View = 8/132"
   ]
  },
  {
   "cell_type": "code",
   "execution_count": 1735,
   "metadata": {},
   "outputs": [],
   "source": [
    "df9 = pd.DataFrame({'Paywall':['(Pw) Unlicensed/View Only', '(Pw) Revision-history', '(Pw) Storage', \n",
    "                               '(Pw) Publish-banner',\n",
    "                               '(Pw) Pub-Password',\n",
    "                               '(Pw) Premium Templates',\n",
    "                               '(Pw) Pdf-dpi',\n",
    "                               '(Pw) Page-Limit',\n",
    "                               '(Pw) Embedding',\n",
    "                               '(Pw) Email-Thumb',\n",
    "                               '(Pw) Downloadable-Publication',\n",
    "                               '(Pw) Custom-Fonts',\n",
    "                              '(Pw) Color-Management',\n",
    "                               '(Pw) Backup-restore',\n",
    "                               '(Pw) Analytics',\n",
    "                              ],  \n",
    "                    'Conversion_Rate':[Conversion_Rate_Unlicensed_View, Conversion_Rate_Revision_History, \n",
    "                            Conversion_Rate_Storage, \n",
    "                            Conversion_Rate_Publish_Banner,\n",
    "                            Conversion_Rate_Pub_Password,\n",
    "                            Conversion_Rate_Premium_Templates,\n",
    "                            Conversion_Rate_PDF,\n",
    "                            Conversion_Rate_Page_Limit,\n",
    "                            Conversion_Rate_Embedding,\n",
    "                            Conversion_Rate_Email,\n",
    "                            Conversion_Rate_Downloadable,\n",
    "                            Conversion_Rate_Fonts,\n",
    "                            Conversion_Rate_Color_Managment,\n",
    "                            Conversion_Rate_Backup,\n",
    "                            Conversion_Rate_Analytics]})"
   ]
  },
  {
   "cell_type": "code",
   "execution_count": 1736,
   "metadata": {},
   "outputs": [
    {
     "data": {
      "text/html": [
       "<div>\n",
       "<style scoped>\n",
       "    .dataframe tbody tr th:only-of-type {\n",
       "        vertical-align: middle;\n",
       "    }\n",
       "\n",
       "    .dataframe tbody tr th {\n",
       "        vertical-align: top;\n",
       "    }\n",
       "\n",
       "    .dataframe thead th {\n",
       "        text-align: right;\n",
       "    }\n",
       "</style>\n",
       "<table border=\"1\" class=\"dataframe\">\n",
       "  <thead>\n",
       "    <tr style=\"text-align: right;\">\n",
       "      <th></th>\n",
       "      <th>Paywall</th>\n",
       "      <th>Conversion_Rate</th>\n",
       "    </tr>\n",
       "  </thead>\n",
       "  <tbody>\n",
       "    <tr>\n",
       "      <th>8</th>\n",
       "      <td>(Pw) Embedding</td>\n",
       "      <td>0.133333</td>\n",
       "    </tr>\n",
       "    <tr>\n",
       "      <th>12</th>\n",
       "      <td>(Pw) Color-Management</td>\n",
       "      <td>0.126850</td>\n",
       "    </tr>\n",
       "    <tr>\n",
       "      <th>11</th>\n",
       "      <td>(Pw) Custom-Fonts</td>\n",
       "      <td>0.104691</td>\n",
       "    </tr>\n",
       "    <tr>\n",
       "      <th>14</th>\n",
       "      <td>(Pw) Analytics</td>\n",
       "      <td>0.103704</td>\n",
       "    </tr>\n",
       "    <tr>\n",
       "      <th>13</th>\n",
       "      <td>(Pw) Backup-restore</td>\n",
       "      <td>0.093750</td>\n",
       "    </tr>\n",
       "    <tr>\n",
       "      <th>10</th>\n",
       "      <td>(Pw) Downloadable-Publication</td>\n",
       "      <td>0.087275</td>\n",
       "    </tr>\n",
       "    <tr>\n",
       "      <th>9</th>\n",
       "      <td>(Pw) Email-Thumb</td>\n",
       "      <td>0.078571</td>\n",
       "    </tr>\n",
       "    <tr>\n",
       "      <th>2</th>\n",
       "      <td>(Pw) Storage</td>\n",
       "      <td>0.075377</td>\n",
       "    </tr>\n",
       "    <tr>\n",
       "      <th>7</th>\n",
       "      <td>(Pw) Page-Limit</td>\n",
       "      <td>0.061665</td>\n",
       "    </tr>\n",
       "    <tr>\n",
       "      <th>0</th>\n",
       "      <td>(Pw) Unlicensed/View Only</td>\n",
       "      <td>0.060606</td>\n",
       "    </tr>\n",
       "    <tr>\n",
       "      <th>6</th>\n",
       "      <td>(Pw) Pdf-dpi</td>\n",
       "      <td>0.038425</td>\n",
       "    </tr>\n",
       "    <tr>\n",
       "      <th>4</th>\n",
       "      <td>(Pw) Pub-Password</td>\n",
       "      <td>0.033670</td>\n",
       "    </tr>\n",
       "    <tr>\n",
       "      <th>3</th>\n",
       "      <td>(Pw) Publish-banner</td>\n",
       "      <td>0.009655</td>\n",
       "    </tr>\n",
       "    <tr>\n",
       "      <th>5</th>\n",
       "      <td>(Pw) Premium Templates</td>\n",
       "      <td>0.008235</td>\n",
       "    </tr>\n",
       "    <tr>\n",
       "      <th>1</th>\n",
       "      <td>(Pw) Revision-history</td>\n",
       "      <td>0.007092</td>\n",
       "    </tr>\n",
       "  </tbody>\n",
       "</table>\n",
       "</div>"
      ],
      "text/plain": [
       "                          Paywall  Conversion_Rate\n",
       "8                  (Pw) Embedding         0.133333\n",
       "12          (Pw) Color-Management         0.126850\n",
       "11              (Pw) Custom-Fonts         0.104691\n",
       "14                 (Pw) Analytics         0.103704\n",
       "13            (Pw) Backup-restore         0.093750\n",
       "10  (Pw) Downloadable-Publication         0.087275\n",
       "9                (Pw) Email-Thumb         0.078571\n",
       "2                    (Pw) Storage         0.075377\n",
       "7                 (Pw) Page-Limit         0.061665\n",
       "0       (Pw) Unlicensed/View Only         0.060606\n",
       "6                    (Pw) Pdf-dpi         0.038425\n",
       "4               (Pw) Pub-Password         0.033670\n",
       "3             (Pw) Publish-banner         0.009655\n",
       "5          (Pw) Premium Templates         0.008235\n",
       "1           (Pw) Revision-history         0.007092"
      ]
     },
     "execution_count": 1736,
     "metadata": {},
     "output_type": "execute_result"
    }
   ],
   "source": [
    "df9.sort_values(by='Conversion_Rate' ,ascending=False)"
   ]
  }
 ],
 "metadata": {
  "kernelspec": {
   "display_name": "Python 3",
   "language": "python",
   "name": "python3"
  },
  "language_info": {
   "codemirror_mode": {
    "name": "ipython",
    "version": 3
   },
   "file_extension": ".py",
   "mimetype": "text/x-python",
   "name": "python",
   "nbconvert_exporter": "python",
   "pygments_lexer": "ipython3",
   "version": "3.7.1"
  }
 },
 "nbformat": 4,
 "nbformat_minor": 2
}
