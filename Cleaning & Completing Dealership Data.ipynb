{
 "cells": [
  {
   "cell_type": "markdown",
   "metadata": {},
   "source": [
    "### Interacting with Parse Hub "
   ]
  },
  {
   "cell_type": "markdown",
   "metadata": {},
   "source": [
    "https://www.reddit.com/r/postanything/comments/bwr06k/alaska/   Colorado\n",
    "\n",
    "https://www.reddit.com/r/postanything/comments/bwu13u/conneticut/  Conneticut\n",
    "\n",
    "https://www.reddit.com/r/postanything/comments/bwr06k/alaska/   delaware\n",
    "\n",
    "https://www.reddit.com/r/postanything/comments/bwv3wj/delaware/  Hawaii\n",
    "\n",
    "https://www.reddit.com/r/postanything/comments/bwu13u/conneticut/  Idaho\n",
    "\n",
    "https://www.reddit.com/r/postanything/comments/bwr06k/alaska/  Illinois\n"
   ]
  },
  {
   "cell_type": "markdown",
   "metadata": {},
   "source": [
    "### Create a new sheet within a workbook\n",
    "https://stackoverflow.com/questions/40385689/add-a-new-sheet-to-a-existing-workbook-in-python"
   ]
  },
  {
   "cell_type": "markdown",
   "metadata": {},
   "source": [
    "https://www.parsehub.com/docs/ref/api/v2/?python#introduction"
   ]
  },
  {
   "cell_type": "markdown",
   "metadata": {},
   "source": [
    "Loop Through Multiple URL's\n",
    "https://www.youtube.com/watch?v=y51UchmuiWU"
   ]
  },
  {
   "cell_type": "code",
   "execution_count": 1,
   "metadata": {},
   "outputs": [],
   "source": [
    "import pandas as pd\n",
    "import numpy as np  \n",
    "from googlesearch import search"
   ]
  },
  {
   "cell_type": "markdown",
   "metadata": {},
   "source": [
    "### Load Data"
   ]
  },
  {
   "cell_type": "code",
   "execution_count": 174,
   "metadata": {},
   "outputs": [],
   "source": [
    "df = pd.read_csv('California_pre.csv')"
   ]
  },
  {
   "cell_type": "code",
   "execution_count": 175,
   "metadata": {},
   "outputs": [
    {
     "data": {
      "text/html": [
       "<div>\n",
       "<style scoped>\n",
       "    .dataframe tbody tr th:only-of-type {\n",
       "        vertical-align: middle;\n",
       "    }\n",
       "\n",
       "    .dataframe tbody tr th {\n",
       "        vertical-align: top;\n",
       "    }\n",
       "\n",
       "    .dataframe thead th {\n",
       "        text-align: right;\n",
       "    }\n",
       "</style>\n",
       "<table border=\"1\" class=\"dataframe\">\n",
       "  <thead>\n",
       "    <tr style=\"text-align: right;\">\n",
       "      <th></th>\n",
       "      <th>selection1_OEM</th>\n",
       "      <th>selection1_Dealer_Name_name</th>\n",
       "      <th>selection1_Dealer_Name_url</th>\n",
       "      <th>selection1_Dealer_Name_Address</th>\n",
       "      <th>selection1_Dealer_Name_City</th>\n",
       "      <th>selection1_Dealer_Name_City_url</th>\n",
       "      <th>selection1_Dealer_Name_State</th>\n",
       "      <th>selection1_Dealer_Name_State_url</th>\n",
       "      <th>selection1_Dealer_Name_ZipCode</th>\n",
       "      <th>selection1_Dealer_Name_ZipCode_url</th>\n",
       "      <th>selection1_Dealer_Name_Sales_Phone_Number</th>\n",
       "      <th>selection1_Dealer_Name_Number_DealerRaterReviews</th>\n",
       "      <th>selection1_Dealer_Name_DealerRaterRating</th>\n",
       "      <th>selection1_Dealer_Name_page</th>\n",
       "    </tr>\n",
       "  </thead>\n",
       "  <tbody>\n",
       "    <tr>\n",
       "      <th>0</th>\n",
       "      <td>Chevrolet</td>\n",
       "      <td>Paradise Chevrolet Cadillac</td>\n",
       "      <td>https://www.dealerrater.com/dealer/Paradise-Ch...</td>\n",
       "      <td>27360 Ynez Rd</td>\n",
       "      <td>Temecula</td>\n",
       "      <td>https://www.dealerrater.com/directory/92591/Ch...</td>\n",
       "      <td>California</td>\n",
       "      <td>https://www.dealerrater.com/directory/92591/Ch...</td>\n",
       "      <td>92591</td>\n",
       "      <td>https://www.dealerrater.com/directory/92591/Ch...</td>\n",
       "      <td>(951) 699-2699</td>\n",
       "      <td>4,566 Lifetime Reviews</td>\n",
       "      <td>5.0</td>\n",
       "      <td>https://www.paradiseautos.com/</td>\n",
       "    </tr>\n",
       "    <tr>\n",
       "      <th>1</th>\n",
       "      <td>Chevrolet</td>\n",
       "      <td>Rio Vista Chevrolet</td>\n",
       "      <td>https://www.dealerrater.com/dealer/Rio-Vista-C...</td>\n",
       "      <td>390 E Hwy 246</td>\n",
       "      <td>Buellton</td>\n",
       "      <td>https://www.dealerrater.com/directory/93427/Ch...</td>\n",
       "      <td>California</td>\n",
       "      <td>https://www.dealerrater.com/directory/93427/Ch...</td>\n",
       "      <td>93427</td>\n",
       "      <td>https://www.dealerrater.com/directory/93427/Ch...</td>\n",
       "      <td>(805) 688-3231</td>\n",
       "      <td>262 Lifetime Reviews</td>\n",
       "      <td>5.0</td>\n",
       "      <td>https://www.riovista.com/</td>\n",
       "    </tr>\n",
       "    <tr>\n",
       "      <th>2</th>\n",
       "      <td>Chevrolet</td>\n",
       "      <td>Harbor Chevrolet</td>\n",
       "      <td>https://www.dealerrater.com/dealer/Harbor-Chev...</td>\n",
       "      <td>3770 Cherry Avenue</td>\n",
       "      <td>Long Beach</td>\n",
       "      <td>https://www.dealerrater.com/directory/90807/Ch...</td>\n",
       "      <td>California</td>\n",
       "      <td>https://www.dealerrater.com/directory/90807/Ch...</td>\n",
       "      <td>90807</td>\n",
       "      <td>https://www.dealerrater.com/directory/90807/Ch...</td>\n",
       "      <td>(866) 973-0316</td>\n",
       "      <td>1,270 Lifetime Reviews</td>\n",
       "      <td>4.9</td>\n",
       "      <td>http://www.harborchevrolet.com/</td>\n",
       "    </tr>\n",
       "    <tr>\n",
       "      <th>3</th>\n",
       "      <td>Chevrolet</td>\n",
       "      <td>Jessup Auto Plaza</td>\n",
       "      <td>https://www.dealerrater.com/dealer/Jessup-Auto...</td>\n",
       "      <td>68-111 E. Palm Canyon Dr</td>\n",
       "      <td>Cathedral City</td>\n",
       "      <td>https://www.dealerrater.com/directory/92234/Ch...</td>\n",
       "      <td>California</td>\n",
       "      <td>https://www.dealerrater.com/directory/92234/Ch...</td>\n",
       "      <td>92234</td>\n",
       "      <td>https://www.dealerrater.com/directory/92234/Ch...</td>\n",
       "      <td>(760) 328-9999</td>\n",
       "      <td>387 Lifetime Reviews</td>\n",
       "      <td>4.9</td>\n",
       "      <td>https://www.jessupautoplaza.com/</td>\n",
       "    </tr>\n",
       "    <tr>\n",
       "      <th>4</th>\n",
       "      <td>Chevrolet</td>\n",
       "      <td>Kuni Chevrolet</td>\n",
       "      <td>https://www.dealerrater.com/dealer/Kuni-Chevro...</td>\n",
       "      <td>2449 Fulton Ave</td>\n",
       "      <td>Sacramento</td>\n",
       "      <td>https://www.dealerrater.com/directory/95825/Ch...</td>\n",
       "      <td>California</td>\n",
       "      <td>https://www.dealerrater.com/directory/95825/Ch...</td>\n",
       "      <td>95825</td>\n",
       "      <td>https://www.dealerrater.com/directory/95825/Ch...</td>\n",
       "      <td>(916) 270-2073</td>\n",
       "      <td>987 Lifetime Reviews</td>\n",
       "      <td>4.8</td>\n",
       "      <td>https://www.kunichevrolet.com/</td>\n",
       "    </tr>\n",
       "  </tbody>\n",
       "</table>\n",
       "</div>"
      ],
      "text/plain": [
       "  selection1_OEM  selection1_Dealer_Name_name  \\\n",
       "0      Chevrolet  Paradise Chevrolet Cadillac   \n",
       "1      Chevrolet          Rio Vista Chevrolet   \n",
       "2      Chevrolet             Harbor Chevrolet   \n",
       "3      Chevrolet            Jessup Auto Plaza   \n",
       "4      Chevrolet               Kuni Chevrolet   \n",
       "\n",
       "                          selection1_Dealer_Name_url  \\\n",
       "0  https://www.dealerrater.com/dealer/Paradise-Ch...   \n",
       "1  https://www.dealerrater.com/dealer/Rio-Vista-C...   \n",
       "2  https://www.dealerrater.com/dealer/Harbor-Chev...   \n",
       "3  https://www.dealerrater.com/dealer/Jessup-Auto...   \n",
       "4  https://www.dealerrater.com/dealer/Kuni-Chevro...   \n",
       "\n",
       "  selection1_Dealer_Name_Address selection1_Dealer_Name_City  \\\n",
       "0                  27360 Ynez Rd                    Temecula   \n",
       "1                  390 E Hwy 246                    Buellton   \n",
       "2             3770 Cherry Avenue                  Long Beach   \n",
       "3       68-111 E. Palm Canyon Dr              Cathedral City   \n",
       "4                2449 Fulton Ave                  Sacramento   \n",
       "\n",
       "                     selection1_Dealer_Name_City_url  \\\n",
       "0  https://www.dealerrater.com/directory/92591/Ch...   \n",
       "1  https://www.dealerrater.com/directory/93427/Ch...   \n",
       "2  https://www.dealerrater.com/directory/90807/Ch...   \n",
       "3  https://www.dealerrater.com/directory/92234/Ch...   \n",
       "4  https://www.dealerrater.com/directory/95825/Ch...   \n",
       "\n",
       "  selection1_Dealer_Name_State  \\\n",
       "0                   California   \n",
       "1                   California   \n",
       "2                   California   \n",
       "3                   California   \n",
       "4                   California   \n",
       "\n",
       "                    selection1_Dealer_Name_State_url  \\\n",
       "0  https://www.dealerrater.com/directory/92591/Ch...   \n",
       "1  https://www.dealerrater.com/directory/93427/Ch...   \n",
       "2  https://www.dealerrater.com/directory/90807/Ch...   \n",
       "3  https://www.dealerrater.com/directory/92234/Ch...   \n",
       "4  https://www.dealerrater.com/directory/95825/Ch...   \n",
       "\n",
       "  selection1_Dealer_Name_ZipCode  \\\n",
       "0                          92591   \n",
       "1                          93427   \n",
       "2                          90807   \n",
       "3                          92234   \n",
       "4                          95825   \n",
       "\n",
       "                  selection1_Dealer_Name_ZipCode_url  \\\n",
       "0  https://www.dealerrater.com/directory/92591/Ch...   \n",
       "1  https://www.dealerrater.com/directory/93427/Ch...   \n",
       "2  https://www.dealerrater.com/directory/90807/Ch...   \n",
       "3  https://www.dealerrater.com/directory/92234/Ch...   \n",
       "4  https://www.dealerrater.com/directory/95825/Ch...   \n",
       "\n",
       "  selection1_Dealer_Name_Sales_Phone_Number  \\\n",
       "0                            (951) 699-2699   \n",
       "1                            (805) 688-3231   \n",
       "2                            (866) 973-0316   \n",
       "3                            (760) 328-9999   \n",
       "4                            (916) 270-2073   \n",
       "\n",
       "  selection1_Dealer_Name_Number_DealerRaterReviews  \\\n",
       "0                           4,566 Lifetime Reviews   \n",
       "1                             262 Lifetime Reviews   \n",
       "2                           1,270 Lifetime Reviews   \n",
       "3                             387 Lifetime Reviews   \n",
       "4                             987 Lifetime Reviews   \n",
       "\n",
       "   selection1_Dealer_Name_DealerRaterRating       selection1_Dealer_Name_page  \n",
       "0                                       5.0    https://www.paradiseautos.com/  \n",
       "1                                       5.0         https://www.riovista.com/  \n",
       "2                                       4.9   http://www.harborchevrolet.com/  \n",
       "3                                       4.9  https://www.jessupautoplaza.com/  \n",
       "4                                       4.8    https://www.kunichevrolet.com/  "
      ]
     },
     "execution_count": 175,
     "metadata": {},
     "output_type": "execute_result"
    }
   ],
   "source": [
    "df.head()"
   ]
  },
  {
   "cell_type": "markdown",
   "metadata": {},
   "source": [
    "### Delete Duplicate Dealers \n",
    "Dealers created from scraping within ParseHub automatically don't have any details beside Dealer email and DealerRater URL. So locating Dealers without a zipcode and then deleting them, we delete duplicate Dealers"
   ]
  },
  {
   "cell_type": "code",
   "execution_count": 176,
   "metadata": {},
   "outputs": [],
   "source": [
    "df.loc[df['selection1_Dealer_Name_ZipCode'].isnull(), 'selection1_Dealer_Name_ZipCode']='None'"
   ]
  },
  {
   "cell_type": "code",
   "execution_count": 177,
   "metadata": {},
   "outputs": [],
   "source": [
    "df = df[df.selection1_Dealer_Name_ZipCode != 'None']"
   ]
  },
  {
   "cell_type": "markdown",
   "metadata": {},
   "source": [
    "### Reset Index"
   ]
  },
  {
   "cell_type": "markdown",
   "metadata": {},
   "source": [
    "So that we can later name the exported CSV as the State.csv"
   ]
  },
  {
   "cell_type": "code",
   "execution_count": 178,
   "metadata": {},
   "outputs": [],
   "source": [
    "df.reset_index(drop=True, inplace=True)"
   ]
  },
  {
   "cell_type": "markdown",
   "metadata": {},
   "source": [
    "### Rename and Reorganize Columns to main formatting"
   ]
  },
  {
   "cell_type": "code",
   "execution_count": 179,
   "metadata": {},
   "outputs": [],
   "source": [
    "df = df.rename(columns={'selection1_OEM': 'Manufactuer', 'selection1_Dealer_Name_name': 'Dealership',\n",
    "                        'selection1_Dealer_Name_url': 'DealerRater URL','selection1_Dealer_Name_Address': 'Address',\n",
    "                       'selection1_Dealer_Name_City': 'City','selection1_Dealer_Name_State': 'State',\n",
    "                       'selection1_Dealer_Name_ZipCode': 'Zip Code','selection1_Dealer_Name_Sales_Phone_Number': 'Phone Number',\n",
    "                       'selection1_Dealer_Name_Number_DealerRaterReviews': 'DealerRater # of Reviews',\n",
    "                        'selection1_Dealer_Name_DealerRaterRating': 'DealerRater Star Rating',\n",
    "                       'selection1_Dealer_Name_page': 'Website'})"
   ]
  },
  {
   "cell_type": "code",
   "execution_count": 180,
   "metadata": {},
   "outputs": [],
   "source": [
    "df['Customer'] = df.apply(lambda _: 'Customer', axis=1)\n",
    "df['Google Rating'] = df.apply(lambda _: 'Google Rating', axis=1)\n",
    "df['# of Google Reviews'] = df.apply(lambda _: '# of Google Reviews', axis=1)\n",
    "df['Dealership Group'] = df.apply(lambda _: 'Dealership Group', axis=1)"
   ]
  },
  {
   "cell_type": "code",
   "execution_count": 181,
   "metadata": {},
   "outputs": [
    {
     "data": {
      "text/plain": [
       "Index(['Manufactuer', 'Dealership', 'DealerRater URL', 'Address', 'City',\n",
       "       'selection1_Dealer_Name_City_url', 'State',\n",
       "       'selection1_Dealer_Name_State_url', 'Zip Code',\n",
       "       'selection1_Dealer_Name_ZipCode_url', 'Phone Number',\n",
       "       'DealerRater # of Reviews', 'DealerRater Star Rating', 'Website',\n",
       "       'Customer', 'Google Rating', '# of Google Reviews', 'Dealership Group'],\n",
       "      dtype='object')"
      ]
     },
     "execution_count": 181,
     "metadata": {},
     "output_type": "execute_result"
    }
   ],
   "source": [
    "df.columns"
   ]
  },
  {
   "cell_type": "code",
   "execution_count": 182,
   "metadata": {},
   "outputs": [],
   "source": [
    "df = df[['Manufactuer','Dealership','Address', 'City','State','Zip Code','Phone Number','Website',\n",
    "      'Dealership Group','Customer', 'Google Rating','# of Google Reviews','DealerRater # of Reviews',\n",
    "      'DealerRater Star Rating','DealerRater URL']]"
   ]
  },
  {
   "cell_type": "code",
   "execution_count": 183,
   "metadata": {},
   "outputs": [],
   "source": [
    "cols = list(df.columns.values)"
   ]
  },
  {
   "cell_type": "markdown",
   "metadata": {},
   "source": [
    "### Rename and Group all OEM's "
   ]
  },
  {
   "cell_type": "code",
   "execution_count": 184,
   "metadata": {},
   "outputs": [],
   "source": [
    "OEM_Groups = {\n",
    "    'Ford': 'Ford Lincoln',\n",
    "    'Lincoln': 'Ford Lincoln',\n",
    "    'Dodge': 'FCA',\n",
    "    'Chrysler': 'FCA',\n",
    "    'Jeep': 'FCA',\n",
    "    'Ram': 'FCA',\n",
    "    'FIAT':'FIAT',\n",
    "    'Alfa Romeo':'Alfa Romeo',\n",
    "    'Buick': 'GM',\n",
    "    'GMC':'GM',\n",
    "    'Cadillac': 'GM',\n",
    "    'Chevrolet': 'GM',\n",
    "    'Toyota': 'Toyota',\n",
    "    'Nissan': 'Nissan',\n",
    "    'BMW': 'BMW',\n",
    "    'Hyundai': 'Hyundai',\n",
    "    'Kia': 'Kia',\n",
    "    'Lexus': 'Lexus',\n",
    "    'MINI': 'MINI',\n",
    "    'Mazda': 'Mazda',\n",
    "    'Mitsubishi': 'Mitsubishi',\n",
    "    'Volvo': 'Volvo',\n",
    "    'Honda': 'Honda',\n",
    "    'Acura': 'Acura',\n",
    "    'Audi': 'Audi',\n",
    "    'Mercedes-Benz': 'Mercedes-Benz',\n",
    "    'Subaru': 'Subaru',\n",
    "    'Volkswagen': 'Volkswagen',\n",
    "    'INFINITI': 'INFINITI',\n",
    "    'Jaguar': 'Jaguar',\n",
    "    'Porsche': 'Porsche',\n",
    "    'Land Rover': 'Land Rover',\n",
    "    'Maserati': 'Maserati',\n",
    "    'Lamborghini': 'Lamborghini',\n",
    "    'McLaren': 'McLaren',\n",
    "    'Bentley': 'Bentley',\n",
    "    'Aston Martin': 'Aston Martin',\n",
    "    'Rolls Royce': 'Rolls Royce',\n",
    "    'Recreational Vehicles': 'Recreational Vehicles',\n",
    "    'Used Car Dealer': 'Used Car Dealer',\n",
    "    'Ferrari': 'Ferrari',\n",
    "    'smart': 'smart'\n",
    "}"
   ]
  },
  {
   "cell_type": "code",
   "execution_count": 185,
   "metadata": {},
   "outputs": [],
   "source": [
    "df['Manufactuer'] = df['Manufactuer'].map(OEM_Groups)"
   ]
  },
  {
   "cell_type": "markdown",
   "metadata": {},
   "source": [
    "### Delete all FCA and OEM's already contained in list"
   ]
  },
  {
   "cell_type": "markdown",
   "metadata": {},
   "source": [
    "Because we wanted to weed out any duplicate dealerships within the \"Used Car\" category, we chose to scrape all the dealerships that we already had on our list. However we already have their data, so we delete those rows"
   ]
  },
  {
   "cell_type": "code",
   "execution_count": 186,
   "metadata": {},
   "outputs": [],
   "source": [
    "df = df[df.Manufactuer != 'Ford Lincoln']\n",
    "df = df[df.Manufactuer != 'Toyota']\n",
    "df = df[df.Manufactuer != 'Nissan']\n",
    "df = df[df.Manufactuer != 'BMW']\n",
    "df = df[df.Manufactuer != 'FCA']\n",
    "df = df[df.Manufactuer != 'Hyundai']\n",
    "df = df[df.Manufactuer != 'Kia']\n",
    "df = df[df.Manufactuer != 'Lexus']\n",
    "df = df[df.Manufactuer != 'MINI']\n",
    "df = df[df.Manufactuer != 'Mazda']\n",
    "df = df[df.Manufactuer != 'Mitsubishi']"
   ]
  },
  {
   "cell_type": "markdown",
   "metadata": {},
   "source": [
    "### Fill in missing Websites"
   ]
  },
  {
   "cell_type": "code",
   "execution_count": 187,
   "metadata": {},
   "outputs": [],
   "source": [
    "df.loc[df['Website'].isnull(), 'Website']='None'"
   ]
  },
  {
   "cell_type": "code",
   "execution_count": 188,
   "metadata": {},
   "outputs": [],
   "source": [
    "def Get_URL (platform):\n",
    "    for url in search (\"'\" + platform + \"'\", stop=1):\n",
    "        return(url)"
   ]
  },
  {
   "cell_type": "code",
   "execution_count": 189,
   "metadata": {},
   "outputs": [],
   "source": [
    "df['Website'] = np.where(df['Website'] == 'None', df['Dealership'].apply(Get_URL), df['Website'])"
   ]
  },
  {
   "cell_type": "code",
   "execution_count": 190,
   "metadata": {},
   "outputs": [
    {
     "data": {
      "text/html": [
       "<div>\n",
       "<style scoped>\n",
       "    .dataframe tbody tr th:only-of-type {\n",
       "        vertical-align: middle;\n",
       "    }\n",
       "\n",
       "    .dataframe tbody tr th {\n",
       "        vertical-align: top;\n",
       "    }\n",
       "\n",
       "    .dataframe thead th {\n",
       "        text-align: right;\n",
       "    }\n",
       "</style>\n",
       "<table border=\"1\" class=\"dataframe\">\n",
       "  <thead>\n",
       "    <tr style=\"text-align: right;\">\n",
       "      <th></th>\n",
       "      <th>Manufactuer</th>\n",
       "      <th>Dealership</th>\n",
       "      <th>Address</th>\n",
       "      <th>City</th>\n",
       "      <th>State</th>\n",
       "      <th>Zip Code</th>\n",
       "      <th>Phone Number</th>\n",
       "      <th>Website</th>\n",
       "      <th>Dealership Group</th>\n",
       "      <th>Customer</th>\n",
       "      <th>Google Rating</th>\n",
       "      <th># of Google Reviews</th>\n",
       "      <th>DealerRater # of Reviews</th>\n",
       "      <th>DealerRater Star Rating</th>\n",
       "      <th>DealerRater URL</th>\n",
       "    </tr>\n",
       "  </thead>\n",
       "  <tbody>\n",
       "    <tr>\n",
       "      <th>0</th>\n",
       "      <td>GM</td>\n",
       "      <td>Paradise Chevrolet Cadillac</td>\n",
       "      <td>27360 Ynez Rd</td>\n",
       "      <td>Temecula</td>\n",
       "      <td>California</td>\n",
       "      <td>92591</td>\n",
       "      <td>(951) 699-2699</td>\n",
       "      <td>https://www.paradiseautos.com/</td>\n",
       "      <td>Dealership Group</td>\n",
       "      <td>Customer</td>\n",
       "      <td>Google Rating</td>\n",
       "      <td># of Google Reviews</td>\n",
       "      <td>4,566 Lifetime Reviews</td>\n",
       "      <td>5.0</td>\n",
       "      <td>https://www.dealerrater.com/dealer/Paradise-Ch...</td>\n",
       "    </tr>\n",
       "    <tr>\n",
       "      <th>1</th>\n",
       "      <td>GM</td>\n",
       "      <td>Rio Vista Chevrolet</td>\n",
       "      <td>390 E Hwy 246</td>\n",
       "      <td>Buellton</td>\n",
       "      <td>California</td>\n",
       "      <td>93427</td>\n",
       "      <td>(805) 688-3231</td>\n",
       "      <td>https://www.riovista.com/</td>\n",
       "      <td>Dealership Group</td>\n",
       "      <td>Customer</td>\n",
       "      <td>Google Rating</td>\n",
       "      <td># of Google Reviews</td>\n",
       "      <td>262 Lifetime Reviews</td>\n",
       "      <td>5.0</td>\n",
       "      <td>https://www.dealerrater.com/dealer/Rio-Vista-C...</td>\n",
       "    </tr>\n",
       "    <tr>\n",
       "      <th>2</th>\n",
       "      <td>GM</td>\n",
       "      <td>Harbor Chevrolet</td>\n",
       "      <td>3770 Cherry Avenue</td>\n",
       "      <td>Long Beach</td>\n",
       "      <td>California</td>\n",
       "      <td>90807</td>\n",
       "      <td>(866) 973-0316</td>\n",
       "      <td>http://www.harborchevrolet.com/</td>\n",
       "      <td>Dealership Group</td>\n",
       "      <td>Customer</td>\n",
       "      <td>Google Rating</td>\n",
       "      <td># of Google Reviews</td>\n",
       "      <td>1,270 Lifetime Reviews</td>\n",
       "      <td>4.9</td>\n",
       "      <td>https://www.dealerrater.com/dealer/Harbor-Chev...</td>\n",
       "    </tr>\n",
       "    <tr>\n",
       "      <th>3</th>\n",
       "      <td>GM</td>\n",
       "      <td>Jessup Auto Plaza</td>\n",
       "      <td>68-111 E. Palm Canyon Dr</td>\n",
       "      <td>Cathedral City</td>\n",
       "      <td>California</td>\n",
       "      <td>92234</td>\n",
       "      <td>(760) 328-9999</td>\n",
       "      <td>https://www.jessupautoplaza.com/</td>\n",
       "      <td>Dealership Group</td>\n",
       "      <td>Customer</td>\n",
       "      <td>Google Rating</td>\n",
       "      <td># of Google Reviews</td>\n",
       "      <td>387 Lifetime Reviews</td>\n",
       "      <td>4.9</td>\n",
       "      <td>https://www.dealerrater.com/dealer/Jessup-Auto...</td>\n",
       "    </tr>\n",
       "    <tr>\n",
       "      <th>4</th>\n",
       "      <td>GM</td>\n",
       "      <td>Kuni Chevrolet</td>\n",
       "      <td>2449 Fulton Ave</td>\n",
       "      <td>Sacramento</td>\n",
       "      <td>California</td>\n",
       "      <td>95825</td>\n",
       "      <td>(916) 270-2073</td>\n",
       "      <td>https://www.kunichevrolet.com/</td>\n",
       "      <td>Dealership Group</td>\n",
       "      <td>Customer</td>\n",
       "      <td>Google Rating</td>\n",
       "      <td># of Google Reviews</td>\n",
       "      <td>987 Lifetime Reviews</td>\n",
       "      <td>4.8</td>\n",
       "      <td>https://www.dealerrater.com/dealer/Kuni-Chevro...</td>\n",
       "    </tr>\n",
       "  </tbody>\n",
       "</table>\n",
       "</div>"
      ],
      "text/plain": [
       "  Manufactuer                   Dealership                   Address  \\\n",
       "0          GM  Paradise Chevrolet Cadillac             27360 Ynez Rd   \n",
       "1          GM          Rio Vista Chevrolet             390 E Hwy 246   \n",
       "2          GM             Harbor Chevrolet        3770 Cherry Avenue   \n",
       "3          GM            Jessup Auto Plaza  68-111 E. Palm Canyon Dr   \n",
       "4          GM               Kuni Chevrolet           2449 Fulton Ave   \n",
       "\n",
       "             City       State Zip Code    Phone Number  \\\n",
       "0        Temecula  California    92591  (951) 699-2699   \n",
       "1        Buellton  California    93427  (805) 688-3231   \n",
       "2      Long Beach  California    90807  (866) 973-0316   \n",
       "3  Cathedral City  California    92234  (760) 328-9999   \n",
       "4      Sacramento  California    95825  (916) 270-2073   \n",
       "\n",
       "                            Website  Dealership Group  Customer  \\\n",
       "0    https://www.paradiseautos.com/  Dealership Group  Customer   \n",
       "1         https://www.riovista.com/  Dealership Group  Customer   \n",
       "2   http://www.harborchevrolet.com/  Dealership Group  Customer   \n",
       "3  https://www.jessupautoplaza.com/  Dealership Group  Customer   \n",
       "4    https://www.kunichevrolet.com/  Dealership Group  Customer   \n",
       "\n",
       "   Google Rating  # of Google Reviews DealerRater # of Reviews  \\\n",
       "0  Google Rating  # of Google Reviews   4,566 Lifetime Reviews   \n",
       "1  Google Rating  # of Google Reviews     262 Lifetime Reviews   \n",
       "2  Google Rating  # of Google Reviews   1,270 Lifetime Reviews   \n",
       "3  Google Rating  # of Google Reviews     387 Lifetime Reviews   \n",
       "4  Google Rating  # of Google Reviews     987 Lifetime Reviews   \n",
       "\n",
       "   DealerRater Star Rating                                    DealerRater URL  \n",
       "0                      5.0  https://www.dealerrater.com/dealer/Paradise-Ch...  \n",
       "1                      5.0  https://www.dealerrater.com/dealer/Rio-Vista-C...  \n",
       "2                      4.9  https://www.dealerrater.com/dealer/Harbor-Chev...  \n",
       "3                      4.9  https://www.dealerrater.com/dealer/Jessup-Auto...  \n",
       "4                      4.8  https://www.dealerrater.com/dealer/Kuni-Chevro...  "
      ]
     },
     "execution_count": 190,
     "metadata": {},
     "output_type": "execute_result"
    }
   ],
   "source": [
    "df.head()"
   ]
  },
  {
   "cell_type": "markdown",
   "metadata": {},
   "source": [
    "### Clear Values within Customer, Dealership Group, Google Rating and # of Google Reviews Columns"
   ]
  },
  {
   "cell_type": "code",
   "execution_count": 191,
   "metadata": {},
   "outputs": [],
   "source": [
    "df[cols] = df[cols].replace({'Customer':np.nan, 'Google Rating':np.nan,\n",
    "                               '# of Google Reviews':np.nan,'Dealership Group':np.nan})"
   ]
  },
  {
   "cell_type": "markdown",
   "metadata": {},
   "source": [
    "### Name the CSV before we change to Abbreviations"
   ]
  },
  {
   "cell_type": "code",
   "execution_count": 192,
   "metadata": {},
   "outputs": [],
   "source": [
    "State =df['State']"
   ]
  },
  {
   "cell_type": "code",
   "execution_count": 193,
   "metadata": {},
   "outputs": [],
   "source": [
    "CSV_name = State[0]"
   ]
  },
  {
   "cell_type": "markdown",
   "metadata": {},
   "source": [
    "### Replace States with Abbreviations"
   ]
  },
  {
   "cell_type": "code",
   "execution_count": 194,
   "metadata": {},
   "outputs": [],
   "source": [
    "us_state_abbrev = {\n",
    "    'Alabama': 'AL',\n",
    "    'Alaska': 'AK',\n",
    "    'Arizona': 'AZ',\n",
    "    'Arkansas': 'AR',\n",
    "    'California': 'CA',\n",
    "    'Colorado': 'CO',\n",
    "    'Connecticut': 'CT',\n",
    "    'Delaware': 'DE',\n",
    "    'Florida': 'FL',\n",
    "    'Georgia': 'GA',\n",
    "    'Hawaii': 'HI',\n",
    "    'Idaho': 'ID',\n",
    "    'Illinois': 'IL',\n",
    "    'Indiana': 'IN',\n",
    "    'Iowa': 'IA',\n",
    "    'Kansas': 'KS',\n",
    "    'Kentucky': 'KY',\n",
    "    'Louisiana': 'LA',\n",
    "    'Maine': 'ME',\n",
    "    'Maryland': 'MD',\n",
    "    'Massachusetts': 'MA',\n",
    "    'Michigan': 'MI',\n",
    "    'Minnesota': 'MN',\n",
    "    'Mississippi': 'MS',\n",
    "    'Missouri': 'MO',\n",
    "    'Montana': 'MT',\n",
    "    'Nebraska': 'NE',\n",
    "    'Nevada': 'NV',\n",
    "    'New Hampshire': 'NH',\n",
    "    'New Jersey': 'NJ',\n",
    "    'New Mexico': 'NM',\n",
    "    'New York': 'NY',\n",
    "    'North Carolina': 'NC',\n",
    "    'North Dakota': 'ND',\n",
    "    'Ohio': 'OH',\n",
    "    'Oklahoma': 'OK',\n",
    "    'Oregon': 'OR',\n",
    "    'Pennsylvania': 'PA',\n",
    "    'Rhode Island': 'RI',\n",
    "    'South Carolina': 'SC',\n",
    "    'South Dakota': 'SD',\n",
    "    'Tennessee': 'TN',\n",
    "    'Texas': 'TX',\n",
    "    'Utah': 'UT',\n",
    "    'Vermont': 'VT',\n",
    "    'Virginia': 'VA',\n",
    "    'Washington': 'WA',\n",
    "    'West Virginia': 'WV',\n",
    "    'Wisconsin': 'WI',\n",
    "    'Wyoming': 'WY',\n",
    "}"
   ]
  },
  {
   "cell_type": "code",
   "execution_count": 195,
   "metadata": {},
   "outputs": [],
   "source": [
    "df['State'] = df['State'].map(us_state_abbrev)"
   ]
  },
  {
   "cell_type": "code",
   "execution_count": 196,
   "metadata": {},
   "outputs": [
    {
     "data": {
      "text/html": [
       "<div>\n",
       "<style scoped>\n",
       "    .dataframe tbody tr th:only-of-type {\n",
       "        vertical-align: middle;\n",
       "    }\n",
       "\n",
       "    .dataframe tbody tr th {\n",
       "        vertical-align: top;\n",
       "    }\n",
       "\n",
       "    .dataframe thead th {\n",
       "        text-align: right;\n",
       "    }\n",
       "</style>\n",
       "<table border=\"1\" class=\"dataframe\">\n",
       "  <thead>\n",
       "    <tr style=\"text-align: right;\">\n",
       "      <th></th>\n",
       "      <th>Manufactuer</th>\n",
       "      <th>Dealership</th>\n",
       "      <th>Address</th>\n",
       "      <th>City</th>\n",
       "      <th>State</th>\n",
       "      <th>Zip Code</th>\n",
       "      <th>Phone Number</th>\n",
       "      <th>Website</th>\n",
       "      <th>Dealership Group</th>\n",
       "      <th>Customer</th>\n",
       "      <th>Google Rating</th>\n",
       "      <th># of Google Reviews</th>\n",
       "      <th>DealerRater # of Reviews</th>\n",
       "      <th>DealerRater Star Rating</th>\n",
       "      <th>DealerRater URL</th>\n",
       "    </tr>\n",
       "  </thead>\n",
       "  <tbody>\n",
       "    <tr>\n",
       "      <th>0</th>\n",
       "      <td>GM</td>\n",
       "      <td>Paradise Chevrolet Cadillac</td>\n",
       "      <td>27360 Ynez Rd</td>\n",
       "      <td>Temecula</td>\n",
       "      <td>CA</td>\n",
       "      <td>92591</td>\n",
       "      <td>(951) 699-2699</td>\n",
       "      <td>https://www.paradiseautos.com/</td>\n",
       "      <td>NaN</td>\n",
       "      <td>NaN</td>\n",
       "      <td>NaN</td>\n",
       "      <td>NaN</td>\n",
       "      <td>4,566 Lifetime Reviews</td>\n",
       "      <td>5.0</td>\n",
       "      <td>https://www.dealerrater.com/dealer/Paradise-Ch...</td>\n",
       "    </tr>\n",
       "    <tr>\n",
       "      <th>1</th>\n",
       "      <td>GM</td>\n",
       "      <td>Rio Vista Chevrolet</td>\n",
       "      <td>390 E Hwy 246</td>\n",
       "      <td>Buellton</td>\n",
       "      <td>CA</td>\n",
       "      <td>93427</td>\n",
       "      <td>(805) 688-3231</td>\n",
       "      <td>https://www.riovista.com/</td>\n",
       "      <td>NaN</td>\n",
       "      <td>NaN</td>\n",
       "      <td>NaN</td>\n",
       "      <td>NaN</td>\n",
       "      <td>262 Lifetime Reviews</td>\n",
       "      <td>5.0</td>\n",
       "      <td>https://www.dealerrater.com/dealer/Rio-Vista-C...</td>\n",
       "    </tr>\n",
       "    <tr>\n",
       "      <th>2</th>\n",
       "      <td>GM</td>\n",
       "      <td>Harbor Chevrolet</td>\n",
       "      <td>3770 Cherry Avenue</td>\n",
       "      <td>Long Beach</td>\n",
       "      <td>CA</td>\n",
       "      <td>90807</td>\n",
       "      <td>(866) 973-0316</td>\n",
       "      <td>http://www.harborchevrolet.com/</td>\n",
       "      <td>NaN</td>\n",
       "      <td>NaN</td>\n",
       "      <td>NaN</td>\n",
       "      <td>NaN</td>\n",
       "      <td>1,270 Lifetime Reviews</td>\n",
       "      <td>4.9</td>\n",
       "      <td>https://www.dealerrater.com/dealer/Harbor-Chev...</td>\n",
       "    </tr>\n",
       "    <tr>\n",
       "      <th>3</th>\n",
       "      <td>GM</td>\n",
       "      <td>Jessup Auto Plaza</td>\n",
       "      <td>68-111 E. Palm Canyon Dr</td>\n",
       "      <td>Cathedral City</td>\n",
       "      <td>CA</td>\n",
       "      <td>92234</td>\n",
       "      <td>(760) 328-9999</td>\n",
       "      <td>https://www.jessupautoplaza.com/</td>\n",
       "      <td>NaN</td>\n",
       "      <td>NaN</td>\n",
       "      <td>NaN</td>\n",
       "      <td>NaN</td>\n",
       "      <td>387 Lifetime Reviews</td>\n",
       "      <td>4.9</td>\n",
       "      <td>https://www.dealerrater.com/dealer/Jessup-Auto...</td>\n",
       "    </tr>\n",
       "    <tr>\n",
       "      <th>4</th>\n",
       "      <td>GM</td>\n",
       "      <td>Kuni Chevrolet</td>\n",
       "      <td>2449 Fulton Ave</td>\n",
       "      <td>Sacramento</td>\n",
       "      <td>CA</td>\n",
       "      <td>95825</td>\n",
       "      <td>(916) 270-2073</td>\n",
       "      <td>https://www.kunichevrolet.com/</td>\n",
       "      <td>NaN</td>\n",
       "      <td>NaN</td>\n",
       "      <td>NaN</td>\n",
       "      <td>NaN</td>\n",
       "      <td>987 Lifetime Reviews</td>\n",
       "      <td>4.8</td>\n",
       "      <td>https://www.dealerrater.com/dealer/Kuni-Chevro...</td>\n",
       "    </tr>\n",
       "  </tbody>\n",
       "</table>\n",
       "</div>"
      ],
      "text/plain": [
       "  Manufactuer                   Dealership                   Address  \\\n",
       "0          GM  Paradise Chevrolet Cadillac             27360 Ynez Rd   \n",
       "1          GM          Rio Vista Chevrolet             390 E Hwy 246   \n",
       "2          GM             Harbor Chevrolet        3770 Cherry Avenue   \n",
       "3          GM            Jessup Auto Plaza  68-111 E. Palm Canyon Dr   \n",
       "4          GM               Kuni Chevrolet           2449 Fulton Ave   \n",
       "\n",
       "             City State Zip Code    Phone Number  \\\n",
       "0        Temecula    CA    92591  (951) 699-2699   \n",
       "1        Buellton    CA    93427  (805) 688-3231   \n",
       "2      Long Beach    CA    90807  (866) 973-0316   \n",
       "3  Cathedral City    CA    92234  (760) 328-9999   \n",
       "4      Sacramento    CA    95825  (916) 270-2073   \n",
       "\n",
       "                            Website  Dealership Group  Customer  \\\n",
       "0    https://www.paradiseautos.com/               NaN       NaN   \n",
       "1         https://www.riovista.com/               NaN       NaN   \n",
       "2   http://www.harborchevrolet.com/               NaN       NaN   \n",
       "3  https://www.jessupautoplaza.com/               NaN       NaN   \n",
       "4    https://www.kunichevrolet.com/               NaN       NaN   \n",
       "\n",
       "   Google Rating  # of Google Reviews DealerRater # of Reviews  \\\n",
       "0            NaN                  NaN   4,566 Lifetime Reviews   \n",
       "1            NaN                  NaN     262 Lifetime Reviews   \n",
       "2            NaN                  NaN   1,270 Lifetime Reviews   \n",
       "3            NaN                  NaN     387 Lifetime Reviews   \n",
       "4            NaN                  NaN     987 Lifetime Reviews   \n",
       "\n",
       "   DealerRater Star Rating                                    DealerRater URL  \n",
       "0                      5.0  https://www.dealerrater.com/dealer/Paradise-Ch...  \n",
       "1                      5.0  https://www.dealerrater.com/dealer/Rio-Vista-C...  \n",
       "2                      4.9  https://www.dealerrater.com/dealer/Harbor-Chev...  \n",
       "3                      4.9  https://www.dealerrater.com/dealer/Jessup-Auto...  \n",
       "4                      4.8  https://www.dealerrater.com/dealer/Kuni-Chevro...  "
      ]
     },
     "execution_count": 196,
     "metadata": {},
     "output_type": "execute_result"
    }
   ],
   "source": [
    "df.head()"
   ]
  },
  {
   "cell_type": "markdown",
   "metadata": {},
   "source": [
    "### Export CSV"
   ]
  },
  {
   "cell_type": "code",
   "execution_count": 197,
   "metadata": {},
   "outputs": [],
   "source": [
    "df.to_csv(\"\" + CSV_name + \".csv\",index=False)"
   ]
  },
  {
   "cell_type": "code",
   "execution_count": null,
   "metadata": {},
   "outputs": [],
   "source": []
  },
  {
   "cell_type": "code",
   "execution_count": null,
   "metadata": {},
   "outputs": [],
   "source": []
  }
 ],
 "metadata": {
  "kernelspec": {
   "display_name": "Python 3",
   "language": "python",
   "name": "python3"
  },
  "language_info": {
   "codemirror_mode": {
    "name": "ipython",
    "version": 3
   },
   "file_extension": ".py",
   "mimetype": "text/x-python",
   "name": "python",
   "nbconvert_exporter": "python",
   "pygments_lexer": "ipython3",
   "version": "3.7.3"
  }
 },
 "nbformat": 4,
 "nbformat_minor": 2
}
