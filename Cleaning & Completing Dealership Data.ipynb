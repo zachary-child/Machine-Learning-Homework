{
 "cells": [
  {
   "cell_type": "markdown",
   "metadata": {},
   "source": [
    "### Interacting with Parse Hub "
   ]
  },
  {
   "cell_type": "code",
   "execution_count": 9,
   "metadata": {},
   "outputs": [],
   "source": [
    "import pandas as pd\n",
    "import numpy as np  \n",
    "from googlesearch import search\n",
    "from random import randint\n",
    "from time import sleep"
   ]
  },
  {
   "cell_type": "markdown",
   "metadata": {},
   "source": [
    "### Load Data"
   ]
  },
  {
   "cell_type": "code",
   "execution_count": 510,
   "metadata": {},
   "outputs": [],
   "source": [
    "df = pd.read_csv('Ontario_Pre.csv')"
   ]
  },
  {
   "cell_type": "code",
   "execution_count": 511,
   "metadata": {},
   "outputs": [
    {
     "data": {
      "text/html": [
       "<div>\n",
       "<style scoped>\n",
       "    .dataframe tbody tr th:only-of-type {\n",
       "        vertical-align: middle;\n",
       "    }\n",
       "\n",
       "    .dataframe tbody tr th {\n",
       "        vertical-align: top;\n",
       "    }\n",
       "\n",
       "    .dataframe thead th {\n",
       "        text-align: right;\n",
       "    }\n",
       "</style>\n",
       "<table border=\"1\" class=\"dataframe\">\n",
       "  <thead>\n",
       "    <tr style=\"text-align: right;\">\n",
       "      <th></th>\n",
       "      <th>selection1_OEM</th>\n",
       "      <th>selection1_Dealer_Name_name</th>\n",
       "      <th>selection1_Dealer_Name_url</th>\n",
       "      <th>selection1_Dealer_Name_Address</th>\n",
       "      <th>selection1_Dealer_Name_City</th>\n",
       "      <th>selection1_Dealer_Name_City_url</th>\n",
       "      <th>selection1_Dealer_Name_State</th>\n",
       "      <th>selection1_Dealer_Name_State_url</th>\n",
       "      <th>selection1_Dealer_Name_ZipCode</th>\n",
       "      <th>selection1_Dealer_Name_ZipCode_url</th>\n",
       "      <th>selection1_Dealer_Name_Sales_Phone_Number</th>\n",
       "      <th>selection1_Dealer_Name_Number_DealerRaterReviews</th>\n",
       "      <th>selection1_Dealer_Name_DealerRaterRating</th>\n",
       "      <th>selection1_Dealer_Name_page</th>\n",
       "    </tr>\n",
       "  </thead>\n",
       "  <tbody>\n",
       "    <tr>\n",
       "      <th>0</th>\n",
       "      <td>Chevrolet</td>\n",
       "      <td>Huron Motor Products</td>\n",
       "      <td>https://www.dealerrater.ca/dealer/Huron-Motor-...</td>\n",
       "      <td>NaN</td>\n",
       "      <td>NaN</td>\n",
       "      <td>NaN</td>\n",
       "      <td>NaN</td>\n",
       "      <td>NaN</td>\n",
       "      <td>NaN</td>\n",
       "      <td>NaN</td>\n",
       "      <td>NaN</td>\n",
       "      <td>NaN</td>\n",
       "      <td>NaN</td>\n",
       "      <td>NaN</td>\n",
       "    </tr>\n",
       "    <tr>\n",
       "      <th>1</th>\n",
       "      <td>Chevrolet</td>\n",
       "      <td>Finch Chevrolet Cadillac Buick GMC</td>\n",
       "      <td>https://www.dealerrater.ca/dealer/Finch-Chevro...</td>\n",
       "      <td>NaN</td>\n",
       "      <td>NaN</td>\n",
       "      <td>NaN</td>\n",
       "      <td>NaN</td>\n",
       "      <td>NaN</td>\n",
       "      <td>NaN</td>\n",
       "      <td>NaN</td>\n",
       "      <td>NaN</td>\n",
       "      <td>NaN</td>\n",
       "      <td>NaN</td>\n",
       "      <td>NaN</td>\n",
       "    </tr>\n",
       "    <tr>\n",
       "      <th>2</th>\n",
       "      <td>Chevrolet</td>\n",
       "      <td>Georgetown Chevrolet Buick GMC</td>\n",
       "      <td>https://www.dealerrater.ca/dealer/Georgetown-C...</td>\n",
       "      <td>NaN</td>\n",
       "      <td>NaN</td>\n",
       "      <td>NaN</td>\n",
       "      <td>NaN</td>\n",
       "      <td>NaN</td>\n",
       "      <td>NaN</td>\n",
       "      <td>NaN</td>\n",
       "      <td>NaN</td>\n",
       "      <td>NaN</td>\n",
       "      <td>NaN</td>\n",
       "      <td>NaN</td>\n",
       "    </tr>\n",
       "    <tr>\n",
       "      <th>3</th>\n",
       "      <td>Chevrolet</td>\n",
       "      <td>Budds' Chevrolet Cadillac Buick GMC</td>\n",
       "      <td>https://www.dealerrater.ca/dealer/Budds-Chevro...</td>\n",
       "      <td>NaN</td>\n",
       "      <td>NaN</td>\n",
       "      <td>NaN</td>\n",
       "      <td>NaN</td>\n",
       "      <td>NaN</td>\n",
       "      <td>NaN</td>\n",
       "      <td>NaN</td>\n",
       "      <td>NaN</td>\n",
       "      <td>NaN</td>\n",
       "      <td>NaN</td>\n",
       "      <td>NaN</td>\n",
       "    </tr>\n",
       "    <tr>\n",
       "      <th>4</th>\n",
       "      <td>Chevrolet</td>\n",
       "      <td>Wilson Niblett Motors</td>\n",
       "      <td>https://www.dealerrater.ca/dealer/Wilson-Nible...</td>\n",
       "      <td>NaN</td>\n",
       "      <td>NaN</td>\n",
       "      <td>NaN</td>\n",
       "      <td>NaN</td>\n",
       "      <td>NaN</td>\n",
       "      <td>NaN</td>\n",
       "      <td>NaN</td>\n",
       "      <td>NaN</td>\n",
       "      <td>NaN</td>\n",
       "      <td>NaN</td>\n",
       "      <td>NaN</td>\n",
       "    </tr>\n",
       "  </tbody>\n",
       "</table>\n",
       "</div>"
      ],
      "text/plain": [
       "  selection1_OEM          selection1_Dealer_Name_name  \\\n",
       "0      Chevrolet                 Huron Motor Products   \n",
       "1      Chevrolet   Finch Chevrolet Cadillac Buick GMC   \n",
       "2      Chevrolet       Georgetown Chevrolet Buick GMC   \n",
       "3      Chevrolet  Budds' Chevrolet Cadillac Buick GMC   \n",
       "4      Chevrolet                Wilson Niblett Motors   \n",
       "\n",
       "                          selection1_Dealer_Name_url  \\\n",
       "0  https://www.dealerrater.ca/dealer/Huron-Motor-...   \n",
       "1  https://www.dealerrater.ca/dealer/Finch-Chevro...   \n",
       "2  https://www.dealerrater.ca/dealer/Georgetown-C...   \n",
       "3  https://www.dealerrater.ca/dealer/Budds-Chevro...   \n",
       "4  https://www.dealerrater.ca/dealer/Wilson-Nible...   \n",
       "\n",
       "  selection1_Dealer_Name_Address selection1_Dealer_Name_City  \\\n",
       "0                            NaN                         NaN   \n",
       "1                            NaN                         NaN   \n",
       "2                            NaN                         NaN   \n",
       "3                            NaN                         NaN   \n",
       "4                            NaN                         NaN   \n",
       "\n",
       "  selection1_Dealer_Name_City_url selection1_Dealer_Name_State  \\\n",
       "0                             NaN                          NaN   \n",
       "1                             NaN                          NaN   \n",
       "2                             NaN                          NaN   \n",
       "3                             NaN                          NaN   \n",
       "4                             NaN                          NaN   \n",
       "\n",
       "  selection1_Dealer_Name_State_url selection1_Dealer_Name_ZipCode  \\\n",
       "0                              NaN                            NaN   \n",
       "1                              NaN                            NaN   \n",
       "2                              NaN                            NaN   \n",
       "3                              NaN                            NaN   \n",
       "4                              NaN                            NaN   \n",
       "\n",
       "  selection1_Dealer_Name_ZipCode_url  \\\n",
       "0                                NaN   \n",
       "1                                NaN   \n",
       "2                                NaN   \n",
       "3                                NaN   \n",
       "4                                NaN   \n",
       "\n",
       "  selection1_Dealer_Name_Sales_Phone_Number  \\\n",
       "0                                       NaN   \n",
       "1                                       NaN   \n",
       "2                                       NaN   \n",
       "3                                       NaN   \n",
       "4                                       NaN   \n",
       "\n",
       "  selection1_Dealer_Name_Number_DealerRaterReviews  \\\n",
       "0                                              NaN   \n",
       "1                                              NaN   \n",
       "2                                              NaN   \n",
       "3                                              NaN   \n",
       "4                                              NaN   \n",
       "\n",
       "   selection1_Dealer_Name_DealerRaterRating selection1_Dealer_Name_page  \n",
       "0                                       NaN                         NaN  \n",
       "1                                       NaN                         NaN  \n",
       "2                                       NaN                         NaN  \n",
       "3                                       NaN                         NaN  \n",
       "4                                       NaN                         NaN  "
      ]
     },
     "execution_count": 511,
     "metadata": {},
     "output_type": "execute_result"
    }
   ],
   "source": [
    "df.head()"
   ]
  },
  {
   "cell_type": "markdown",
   "metadata": {},
   "source": [
    "### Delete Duplicate Dealers \n",
    "Dealers created from scraping within ParseHub automatically don't have any details beside Dealer email and DealerRater URL. So locating Dealers without a zipcode and then deleting them, we delete duplicate Dealers"
   ]
  },
  {
   "cell_type": "code",
   "execution_count": 512,
   "metadata": {},
   "outputs": [],
   "source": [
    "df.loc[df['selection1_Dealer_Name_ZipCode'].isnull(), 'selection1_Dealer_Name_ZipCode']='None'"
   ]
  },
  {
   "cell_type": "code",
   "execution_count": 513,
   "metadata": {},
   "outputs": [],
   "source": [
    "df = df[df.selection1_Dealer_Name_ZipCode != 'None']"
   ]
  },
  {
   "cell_type": "markdown",
   "metadata": {},
   "source": [
    "### Reset Index"
   ]
  },
  {
   "cell_type": "markdown",
   "metadata": {},
   "source": [
    "So that we can later name the exported CSV as the State.csv"
   ]
  },
  {
   "cell_type": "code",
   "execution_count": 514,
   "metadata": {},
   "outputs": [],
   "source": [
    "df.reset_index(drop=True, inplace=True)"
   ]
  },
  {
   "cell_type": "markdown",
   "metadata": {},
   "source": [
    "### Rename and Reorganize Columns to main formatting"
   ]
  },
  {
   "cell_type": "code",
   "execution_count": 515,
   "metadata": {},
   "outputs": [],
   "source": [
    "df = df.rename(columns={'selection1_OEM': 'Manufactuer', 'selection1_Dealer_Name_name': 'Dealership',\n",
    "                        'selection1_Dealer_Name_url': 'DealerRater URL','selection1_Dealer_Name_Address': 'Address',\n",
    "                       'selection1_Dealer_Name_City': 'City','selection1_Dealer_Name_State': 'State',\n",
    "                       'selection1_Dealer_Name_ZipCode': 'Zip Code','selection1_Dealer_Name_Sales_Phone_Number': 'Phone Number',\n",
    "                       'selection1_Dealer_Name_Number_DealerRaterReviews': 'DealerRater # of Reviews',\n",
    "                        'selection1_Dealer_Name_DealerRaterRating': 'DealerRater Star Rating',\n",
    "                       'selection1_Dealer_Name_page': 'Website'})"
   ]
  },
  {
   "cell_type": "code",
   "execution_count": 516,
   "metadata": {},
   "outputs": [],
   "source": [
    "df['Customer'] = df.apply(lambda _: 'Customer', axis=1)\n",
    "df['Google Rating'] = df.apply(lambda _: 'Google Rating', axis=1)\n",
    "df['# of Google Reviews'] = df.apply(lambda _: '# of Google Reviews', axis=1)\n",
    "df['Dealership Group'] = df.apply(lambda _: 'Dealership Group', axis=1)"
   ]
  },
  {
   "cell_type": "code",
   "execution_count": 517,
   "metadata": {},
   "outputs": [
    {
     "data": {
      "text/plain": [
       "Index(['Manufactuer', 'Dealership', 'DealerRater URL', 'Address', 'City',\n",
       "       'selection1_Dealer_Name_City_url', 'State',\n",
       "       'selection1_Dealer_Name_State_url', 'Zip Code',\n",
       "       'selection1_Dealer_Name_ZipCode_url', 'Phone Number',\n",
       "       'DealerRater # of Reviews', 'DealerRater Star Rating', 'Website',\n",
       "       'Customer', 'Google Rating', '# of Google Reviews', 'Dealership Group'],\n",
       "      dtype='object')"
      ]
     },
     "execution_count": 517,
     "metadata": {},
     "output_type": "execute_result"
    }
   ],
   "source": [
    "df.columns"
   ]
  },
  {
   "cell_type": "code",
   "execution_count": 518,
   "metadata": {},
   "outputs": [],
   "source": [
    "df = df[['Manufactuer','Dealership','Address', 'City','State','Zip Code','Phone Number','Website',\n",
    "      'Dealership Group','Customer', 'Google Rating','# of Google Reviews','DealerRater # of Reviews',\n",
    "      'DealerRater Star Rating','DealerRater URL']]"
   ]
  },
  {
   "cell_type": "code",
   "execution_count": 519,
   "metadata": {},
   "outputs": [],
   "source": [
    "cols = list(df.columns.values)"
   ]
  },
  {
   "cell_type": "markdown",
   "metadata": {},
   "source": [
    "### Rename and Group all OEM's "
   ]
  },
  {
   "cell_type": "code",
   "execution_count": 520,
   "metadata": {},
   "outputs": [],
   "source": [
    "OEM_Groups = {\n",
    "    'Ford': 'Ford Lincoln',\n",
    "    'Lincoln': 'Ford Lincoln',\n",
    "    'Dodge': 'FCA',\n",
    "    'Chrysler': 'FCA',\n",
    "    'Jeep': 'FCA',\n",
    "    'Ram': 'FCA',\n",
    "    'FIAT':'FIAT',\n",
    "    'Alfa Romeo':'Alfa Romeo',\n",
    "    'Buick': 'GM',\n",
    "    'GMC':'GM',\n",
    "    'Cadillac': 'GM',\n",
    "    'Chevrolet': 'GM',\n",
    "    'Toyota': 'Toyota',\n",
    "    'Nissan': 'Nissan',\n",
    "    'BMW': 'BMW',\n",
    "    'Hyundai': 'Hyundai',\n",
    "    'Kia': 'Kia',\n",
    "    'Lexus': 'Lexus',\n",
    "    'MINI': 'MINI',\n",
    "    'Mazda': 'Mazda',\n",
    "    'Mitsubishi': 'Mitsubishi',\n",
    "    'Volvo': 'Volvo',\n",
    "    'Honda': 'Honda',\n",
    "    'Acura': 'Acura',\n",
    "    'Audi': 'Audi',\n",
    "    'Mercedes-Benz': 'Mercedes-Benz',\n",
    "    'Subaru': 'Subaru',\n",
    "    'Volkswagen': 'Volkswagen',\n",
    "    'INFINITI': 'INFINITI',\n",
    "    'Jaguar': 'Jaguar',\n",
    "    'Porsche': 'Porsche',\n",
    "    'Land Rover': 'Land Rover',\n",
    "    'Maserati': 'Maserati',\n",
    "    'Lamborghini': 'Lamborghini',\n",
    "    'McLaren': 'McLaren',\n",
    "    'Bentley': 'Bentley',\n",
    "    'Aston Martin': 'Aston Martin',\n",
    "    'Rolls Royce': 'Rolls Royce',\n",
    "    'Recreational Vehicles': 'Recreational Vehicles',\n",
    "    'Used Car Dealer': 'Used Car Dealer',\n",
    "    'Ferrari': 'Ferrari',\n",
    "    'smart': 'smart'\n",
    "}"
   ]
  },
  {
   "cell_type": "code",
   "execution_count": 521,
   "metadata": {},
   "outputs": [],
   "source": [
    "df['Manufactuer'] = df['Manufactuer'].map(OEM_Groups)"
   ]
  },
  {
   "cell_type": "markdown",
   "metadata": {},
   "source": [
    "### Delete all FCA and OEM's already contained in list"
   ]
  },
  {
   "cell_type": "markdown",
   "metadata": {},
   "source": [
    "Because we wanted to weed out any duplicate dealerships within the \"Used Car\" category, we chose to scrape all the dealerships that we already had on our list. However we already have their data, so we delete those rows"
   ]
  },
  {
   "cell_type": "code",
   "execution_count": 522,
   "metadata": {},
   "outputs": [],
   "source": [
    "#df = df[df.Manufactuer != 'Ford Lincoln']\n",
    "#df = df[df.Manufactuer != 'Toyota']\n",
    "#df = df[df.Manufactuer != 'Nissan']\n",
    "#df = df[df.Manufactuer != 'BMW']\n",
    "#df = df[df.Manufactuer != 'FCA']\n",
    "#df = df[df.Manufactuer != 'Hyundai']\n",
    "#df = df[df.Manufactuer != 'Kia']\n",
    "#df = df[df.Manufactuer != 'Lexus']\n",
    "#df = df[df.Manufactuer != 'MINI']\n",
    "#df = df[df.Manufactuer != 'Mazda']\n",
    "#df = df[df.Manufactuer != 'Mitsubishi']"
   ]
  },
  {
   "cell_type": "markdown",
   "metadata": {},
   "source": [
    "### Fill in missing Websites"
   ]
  },
  {
   "cell_type": "code",
   "execution_count": 523,
   "metadata": {},
   "outputs": [],
   "source": [
    "df.loc[df['Website'].isnull(), 'Website']='None'"
   ]
  },
  {
   "cell_type": "code",
   "execution_count": 524,
   "metadata": {},
   "outputs": [],
   "source": [
    "def Get_URL (platform):\n",
    "    for url in search (\"'\" + platform + \"'\", stop=1):\n",
    "        return(url)"
   ]
  },
  {
   "cell_type": "code",
   "execution_count": 525,
   "metadata": {},
   "outputs": [],
   "source": [
    "#sleep(randint(0,3))"
   ]
  },
  {
   "cell_type": "code",
   "execution_count": 526,
   "metadata": {},
   "outputs": [],
   "source": [
    "df['Website'] = np.where(df['Website'] == 'None', df['Dealership'].apply(Get_URL), df['Website'])"
   ]
  },
  {
   "cell_type": "code",
   "execution_count": 527,
   "metadata": {},
   "outputs": [
    {
     "data": {
      "text/html": [
       "<div>\n",
       "<style scoped>\n",
       "    .dataframe tbody tr th:only-of-type {\n",
       "        vertical-align: middle;\n",
       "    }\n",
       "\n",
       "    .dataframe tbody tr th {\n",
       "        vertical-align: top;\n",
       "    }\n",
       "\n",
       "    .dataframe thead th {\n",
       "        text-align: right;\n",
       "    }\n",
       "</style>\n",
       "<table border=\"1\" class=\"dataframe\">\n",
       "  <thead>\n",
       "    <tr style=\"text-align: right;\">\n",
       "      <th></th>\n",
       "      <th>Manufactuer</th>\n",
       "      <th>Dealership</th>\n",
       "      <th>Address</th>\n",
       "      <th>City</th>\n",
       "      <th>State</th>\n",
       "      <th>Zip Code</th>\n",
       "      <th>Phone Number</th>\n",
       "      <th>Website</th>\n",
       "      <th>Dealership Group</th>\n",
       "      <th>Customer</th>\n",
       "      <th>Google Rating</th>\n",
       "      <th># of Google Reviews</th>\n",
       "      <th>DealerRater # of Reviews</th>\n",
       "      <th>DealerRater Star Rating</th>\n",
       "      <th>DealerRater URL</th>\n",
       "    </tr>\n",
       "  </thead>\n",
       "  <tbody>\n",
       "    <tr>\n",
       "      <th>0</th>\n",
       "      <td>GM</td>\n",
       "      <td>Roy Nichols Chevrolet</td>\n",
       "      <td>2728 Courtice Road</td>\n",
       "      <td>Courtice</td>\n",
       "      <td>Ontario</td>\n",
       "      <td>L1E 2M7</td>\n",
       "      <td>(905) 436-2222</td>\n",
       "      <td>https://www.roynicholsmotors.com/</td>\n",
       "      <td>Dealership Group</td>\n",
       "      <td>Customer</td>\n",
       "      <td>Google Rating</td>\n",
       "      <td># of Google Reviews</td>\n",
       "      <td>1824 Lifetime Reviews</td>\n",
       "      <td>5.0</td>\n",
       "      <td>https://www.dealerrater.ca/dealer/Roy-Nichols-...</td>\n",
       "    </tr>\n",
       "    <tr>\n",
       "      <th>1</th>\n",
       "      <td>GM</td>\n",
       "      <td>Jeff Smith's County Chevrolet</td>\n",
       "      <td>224 Talbot St N</td>\n",
       "      <td>Essex</td>\n",
       "      <td>Ontario</td>\n",
       "      <td>N8M 2C8</td>\n",
       "      <td>(519) 776-4222</td>\n",
       "      <td>https://www.countychevroletessex.com/</td>\n",
       "      <td>Dealership Group</td>\n",
       "      <td>Customer</td>\n",
       "      <td>Google Rating</td>\n",
       "      <td># of Google Reviews</td>\n",
       "      <td>6 Lifetime Reviews</td>\n",
       "      <td>3.4</td>\n",
       "      <td>https://www.dealerrater.ca/dealer/Jeff-Smith-s...</td>\n",
       "    </tr>\n",
       "    <tr>\n",
       "      <th>2</th>\n",
       "      <td>GM</td>\n",
       "      <td>The Humberview Group</td>\n",
       "      <td>3200 Bloor Street West</td>\n",
       "      <td>Toronto</td>\n",
       "      <td>Ontario</td>\n",
       "      <td>M8X 1E1</td>\n",
       "      <td>(877) 893-0990</td>\n",
       "      <td>https://www.humberviewgroup.com/</td>\n",
       "      <td>Dealership Group</td>\n",
       "      <td>Customer</td>\n",
       "      <td>Google Rating</td>\n",
       "      <td># of Google Reviews</td>\n",
       "      <td>1824 Lifetime Reviews</td>\n",
       "      <td>1.8</td>\n",
       "      <td>https://www.dealerrater.ca/dealer/The-Humbervi...</td>\n",
       "    </tr>\n",
       "    <tr>\n",
       "      <th>3</th>\n",
       "      <td>GM</td>\n",
       "      <td>Upper Canada Motor Sales Limited</td>\n",
       "      <td>12375 Country Rd 2</td>\n",
       "      <td>Morrisburg</td>\n",
       "      <td>Ontario</td>\n",
       "      <td>K0C 1X0</td>\n",
       "      <td>(613) 543-2925</td>\n",
       "      <td>https://www.uppercanadamotors.com/</td>\n",
       "      <td>Dealership Group</td>\n",
       "      <td>Customer</td>\n",
       "      <td>Google Rating</td>\n",
       "      <td># of Google Reviews</td>\n",
       "      <td>1 Lifetime Review</td>\n",
       "      <td>1.0</td>\n",
       "      <td>https://www.dealerrater.ca/dealer/Upper-Canada...</td>\n",
       "    </tr>\n",
       "    <tr>\n",
       "      <th>4</th>\n",
       "      <td>GM</td>\n",
       "      <td>Bill Spencer Chevrolet Ltd</td>\n",
       "      <td>Hwy #2 West</td>\n",
       "      <td>Cobourg</td>\n",
       "      <td>Ontario</td>\n",
       "      <td>K9A 4S3</td>\n",
       "      <td>(905) 372-8773</td>\n",
       "      <td>https://www.billspencerchevrolet.com/</td>\n",
       "      <td>Dealership Group</td>\n",
       "      <td>Customer</td>\n",
       "      <td>Google Rating</td>\n",
       "      <td># of Google Reviews</td>\n",
       "      <td>1824 Lifetime Reviews</td>\n",
       "      <td>NaN</td>\n",
       "      <td>https://www.dealerrater.ca/dealer/Bill-Spencer...</td>\n",
       "    </tr>\n",
       "  </tbody>\n",
       "</table>\n",
       "</div>"
      ],
      "text/plain": [
       "  Manufactuer                        Dealership                 Address  \\\n",
       "0          GM             Roy Nichols Chevrolet      2728 Courtice Road   \n",
       "1          GM     Jeff Smith's County Chevrolet         224 Talbot St N   \n",
       "2          GM              The Humberview Group  3200 Bloor Street West   \n",
       "3          GM  Upper Canada Motor Sales Limited      12375 Country Rd 2   \n",
       "4          GM        Bill Spencer Chevrolet Ltd             Hwy #2 West   \n",
       "\n",
       "         City    State Zip Code    Phone Number  \\\n",
       "0    Courtice  Ontario  L1E 2M7  (905) 436-2222   \n",
       "1       Essex  Ontario  N8M 2C8  (519) 776-4222   \n",
       "2     Toronto  Ontario  M8X 1E1  (877) 893-0990   \n",
       "3  Morrisburg  Ontario  K0C 1X0  (613) 543-2925   \n",
       "4     Cobourg  Ontario  K9A 4S3  (905) 372-8773   \n",
       "\n",
       "                                 Website  Dealership Group  Customer  \\\n",
       "0      https://www.roynicholsmotors.com/  Dealership Group  Customer   \n",
       "1  https://www.countychevroletessex.com/  Dealership Group  Customer   \n",
       "2       https://www.humberviewgroup.com/  Dealership Group  Customer   \n",
       "3     https://www.uppercanadamotors.com/  Dealership Group  Customer   \n",
       "4  https://www.billspencerchevrolet.com/  Dealership Group  Customer   \n",
       "\n",
       "   Google Rating  # of Google Reviews DealerRater # of Reviews  \\\n",
       "0  Google Rating  # of Google Reviews    1824 Lifetime Reviews   \n",
       "1  Google Rating  # of Google Reviews       6 Lifetime Reviews   \n",
       "2  Google Rating  # of Google Reviews    1824 Lifetime Reviews   \n",
       "3  Google Rating  # of Google Reviews        1 Lifetime Review   \n",
       "4  Google Rating  # of Google Reviews    1824 Lifetime Reviews   \n",
       "\n",
       "   DealerRater Star Rating                                    DealerRater URL  \n",
       "0                      5.0  https://www.dealerrater.ca/dealer/Roy-Nichols-...  \n",
       "1                      3.4  https://www.dealerrater.ca/dealer/Jeff-Smith-s...  \n",
       "2                      1.8  https://www.dealerrater.ca/dealer/The-Humbervi...  \n",
       "3                      1.0  https://www.dealerrater.ca/dealer/Upper-Canada...  \n",
       "4                      NaN  https://www.dealerrater.ca/dealer/Bill-Spencer...  "
      ]
     },
     "execution_count": 527,
     "metadata": {},
     "output_type": "execute_result"
    }
   ],
   "source": [
    "df.head()"
   ]
  },
  {
   "cell_type": "markdown",
   "metadata": {},
   "source": [
    "### Clear Values within Customer, Dealership Group, Google Rating and # of Google Reviews Columns"
   ]
  },
  {
   "cell_type": "code",
   "execution_count": 528,
   "metadata": {},
   "outputs": [],
   "source": [
    "df[cols] = df[cols].replace({'Customer':np.nan, 'Google Rating':np.nan,\n",
    "                               '# of Google Reviews':np.nan,'Dealership Group':np.nan})"
   ]
  },
  {
   "cell_type": "markdown",
   "metadata": {},
   "source": [
    "### Name the CSV before we change to Abbreviations"
   ]
  },
  {
   "cell_type": "code",
   "execution_count": 529,
   "metadata": {},
   "outputs": [],
   "source": [
    "State =df['State']"
   ]
  },
  {
   "cell_type": "code",
   "execution_count": 530,
   "metadata": {},
   "outputs": [],
   "source": [
    "CSV_name = State[0]"
   ]
  },
  {
   "cell_type": "markdown",
   "metadata": {},
   "source": [
    "### Replace States with Abbreviations"
   ]
  },
  {
   "cell_type": "code",
   "execution_count": 306,
   "metadata": {},
   "outputs": [],
   "source": [
    "us_state_abbrev = {\n",
    "    'Alabama': 'AL',\n",
    "    'Alaska': 'AK',\n",
    "    'Arizona': 'AZ',\n",
    "    'Arkansas': 'AR',\n",
    "    'California': 'CA',\n",
    "    'Colorado': 'CO',\n",
    "    'Connecticut': 'CT',\n",
    "    'Delaware': 'DE',\n",
    "    'Florida': 'FL',\n",
    "    'Georgia': 'GA',\n",
    "    'Hawaii': 'HI',\n",
    "    'Idaho': 'ID',\n",
    "    'Illinois': 'IL',\n",
    "    'Indiana': 'IN',\n",
    "    'Iowa': 'IA',\n",
    "    'Kansas': 'KS',\n",
    "    'Kentucky': 'KY',\n",
    "    'Louisiana': 'LA',\n",
    "    'Maine': 'ME',\n",
    "    'Maryland': 'MD',\n",
    "    'Massachusetts': 'MA',\n",
    "    'Michigan': 'MI',\n",
    "    'Minnesota': 'MN',\n",
    "    'Mississippi': 'MS',\n",
    "    'Missouri': 'MO',\n",
    "    'Montana': 'MT',\n",
    "    'Nebraska': 'NE',\n",
    "    'Nevada': 'NV',\n",
    "    'New Hampshire': 'NH',\n",
    "    'New Jersey': 'NJ',\n",
    "    'New Mexico': 'NM',\n",
    "    'New York': 'NY',\n",
    "    'North Carolina': 'NC',\n",
    "    'North Dakota': 'ND',\n",
    "    'Ohio': 'OH',\n",
    "    'Oklahoma': 'OK',\n",
    "    'Oregon': 'OR',\n",
    "    'Pennsylvania': 'PA',\n",
    "    'Rhode Island': 'RI',\n",
    "    'South Carolina': 'SC',\n",
    "    'South Dakota': 'SD',\n",
    "    'Tennessee': 'TN',\n",
    "    'Texas': 'TX',\n",
    "    'Utah': 'UT',\n",
    "    'Vermont': 'VT',\n",
    "    'Virginia': 'VA',\n",
    "    'Washington': 'WA',\n",
    "    'West Virginia': 'WV',\n",
    "    'Wisconsin': 'WI',\n",
    "    'Wyoming': 'WY',\n",
    "    'Dist. of Columbia':'DC',\n",
    "    'Newfoundland and Labrador':'NL',\n",
    "    'Prince Edward Island':'PE',\n",
    "    'Nova Scotia':'NS',\n",
    "    'New Brunswick':'NB',\n",
    "    'Quebec':'QC',\n",
    "    'Ontario':'ON',\n",
    "    'Manitoba':'MB',\n",
    "    'Saskatchewan':'SK',\n",
    "    'Alberta':'AB',\n",
    "    'British Columbia':'BC',\n",
    "    'Yukon':'YT',\n",
    "    'Northwest Territories' :'NT',\n",
    "    'Nunavut':'NU'\n",
    "}"
   ]
  },
  {
   "cell_type": "code",
   "execution_count": 532,
   "metadata": {},
   "outputs": [],
   "source": [
    "df['State'] = df['State'].map(us_state_abbrev)"
   ]
  },
  {
   "cell_type": "code",
   "execution_count": 533,
   "metadata": {},
   "outputs": [
    {
     "data": {
      "text/html": [
       "<div>\n",
       "<style scoped>\n",
       "    .dataframe tbody tr th:only-of-type {\n",
       "        vertical-align: middle;\n",
       "    }\n",
       "\n",
       "    .dataframe tbody tr th {\n",
       "        vertical-align: top;\n",
       "    }\n",
       "\n",
       "    .dataframe thead th {\n",
       "        text-align: right;\n",
       "    }\n",
       "</style>\n",
       "<table border=\"1\" class=\"dataframe\">\n",
       "  <thead>\n",
       "    <tr style=\"text-align: right;\">\n",
       "      <th></th>\n",
       "      <th>Manufactuer</th>\n",
       "      <th>Dealership</th>\n",
       "      <th>Address</th>\n",
       "      <th>City</th>\n",
       "      <th>State</th>\n",
       "      <th>Zip Code</th>\n",
       "      <th>Phone Number</th>\n",
       "      <th>Website</th>\n",
       "      <th>Dealership Group</th>\n",
       "      <th>Customer</th>\n",
       "      <th>Google Rating</th>\n",
       "      <th># of Google Reviews</th>\n",
       "      <th>DealerRater # of Reviews</th>\n",
       "      <th>DealerRater Star Rating</th>\n",
       "      <th>DealerRater URL</th>\n",
       "    </tr>\n",
       "  </thead>\n",
       "  <tbody>\n",
       "    <tr>\n",
       "      <th>0</th>\n",
       "      <td>GM</td>\n",
       "      <td>Roy Nichols Chevrolet</td>\n",
       "      <td>2728 Courtice Road</td>\n",
       "      <td>Courtice</td>\n",
       "      <td>ON</td>\n",
       "      <td>L1E 2M7</td>\n",
       "      <td>(905) 436-2222</td>\n",
       "      <td>https://www.roynicholsmotors.com/</td>\n",
       "      <td>NaN</td>\n",
       "      <td>NaN</td>\n",
       "      <td>NaN</td>\n",
       "      <td>NaN</td>\n",
       "      <td>1824 Lifetime Reviews</td>\n",
       "      <td>5.0</td>\n",
       "      <td>https://www.dealerrater.ca/dealer/Roy-Nichols-...</td>\n",
       "    </tr>\n",
       "    <tr>\n",
       "      <th>1</th>\n",
       "      <td>GM</td>\n",
       "      <td>Jeff Smith's County Chevrolet</td>\n",
       "      <td>224 Talbot St N</td>\n",
       "      <td>Essex</td>\n",
       "      <td>ON</td>\n",
       "      <td>N8M 2C8</td>\n",
       "      <td>(519) 776-4222</td>\n",
       "      <td>https://www.countychevroletessex.com/</td>\n",
       "      <td>NaN</td>\n",
       "      <td>NaN</td>\n",
       "      <td>NaN</td>\n",
       "      <td>NaN</td>\n",
       "      <td>6 Lifetime Reviews</td>\n",
       "      <td>3.4</td>\n",
       "      <td>https://www.dealerrater.ca/dealer/Jeff-Smith-s...</td>\n",
       "    </tr>\n",
       "    <tr>\n",
       "      <th>2</th>\n",
       "      <td>GM</td>\n",
       "      <td>The Humberview Group</td>\n",
       "      <td>3200 Bloor Street West</td>\n",
       "      <td>Toronto</td>\n",
       "      <td>ON</td>\n",
       "      <td>M8X 1E1</td>\n",
       "      <td>(877) 893-0990</td>\n",
       "      <td>https://www.humberviewgroup.com/</td>\n",
       "      <td>NaN</td>\n",
       "      <td>NaN</td>\n",
       "      <td>NaN</td>\n",
       "      <td>NaN</td>\n",
       "      <td>1824 Lifetime Reviews</td>\n",
       "      <td>1.8</td>\n",
       "      <td>https://www.dealerrater.ca/dealer/The-Humbervi...</td>\n",
       "    </tr>\n",
       "    <tr>\n",
       "      <th>3</th>\n",
       "      <td>GM</td>\n",
       "      <td>Upper Canada Motor Sales Limited</td>\n",
       "      <td>12375 Country Rd 2</td>\n",
       "      <td>Morrisburg</td>\n",
       "      <td>ON</td>\n",
       "      <td>K0C 1X0</td>\n",
       "      <td>(613) 543-2925</td>\n",
       "      <td>https://www.uppercanadamotors.com/</td>\n",
       "      <td>NaN</td>\n",
       "      <td>NaN</td>\n",
       "      <td>NaN</td>\n",
       "      <td>NaN</td>\n",
       "      <td>1 Lifetime Review</td>\n",
       "      <td>1.0</td>\n",
       "      <td>https://www.dealerrater.ca/dealer/Upper-Canada...</td>\n",
       "    </tr>\n",
       "    <tr>\n",
       "      <th>4</th>\n",
       "      <td>GM</td>\n",
       "      <td>Bill Spencer Chevrolet Ltd</td>\n",
       "      <td>Hwy #2 West</td>\n",
       "      <td>Cobourg</td>\n",
       "      <td>ON</td>\n",
       "      <td>K9A 4S3</td>\n",
       "      <td>(905) 372-8773</td>\n",
       "      <td>https://www.billspencerchevrolet.com/</td>\n",
       "      <td>NaN</td>\n",
       "      <td>NaN</td>\n",
       "      <td>NaN</td>\n",
       "      <td>NaN</td>\n",
       "      <td>1824 Lifetime Reviews</td>\n",
       "      <td>NaN</td>\n",
       "      <td>https://www.dealerrater.ca/dealer/Bill-Spencer...</td>\n",
       "    </tr>\n",
       "  </tbody>\n",
       "</table>\n",
       "</div>"
      ],
      "text/plain": [
       "  Manufactuer                        Dealership                 Address  \\\n",
       "0          GM             Roy Nichols Chevrolet      2728 Courtice Road   \n",
       "1          GM     Jeff Smith's County Chevrolet         224 Talbot St N   \n",
       "2          GM              The Humberview Group  3200 Bloor Street West   \n",
       "3          GM  Upper Canada Motor Sales Limited      12375 Country Rd 2   \n",
       "4          GM        Bill Spencer Chevrolet Ltd             Hwy #2 West   \n",
       "\n",
       "         City State Zip Code    Phone Number  \\\n",
       "0    Courtice    ON  L1E 2M7  (905) 436-2222   \n",
       "1       Essex    ON  N8M 2C8  (519) 776-4222   \n",
       "2     Toronto    ON  M8X 1E1  (877) 893-0990   \n",
       "3  Morrisburg    ON  K0C 1X0  (613) 543-2925   \n",
       "4     Cobourg    ON  K9A 4S3  (905) 372-8773   \n",
       "\n",
       "                                 Website  Dealership Group  Customer  \\\n",
       "0      https://www.roynicholsmotors.com/               NaN       NaN   \n",
       "1  https://www.countychevroletessex.com/               NaN       NaN   \n",
       "2       https://www.humberviewgroup.com/               NaN       NaN   \n",
       "3     https://www.uppercanadamotors.com/               NaN       NaN   \n",
       "4  https://www.billspencerchevrolet.com/               NaN       NaN   \n",
       "\n",
       "   Google Rating  # of Google Reviews DealerRater # of Reviews  \\\n",
       "0            NaN                  NaN    1824 Lifetime Reviews   \n",
       "1            NaN                  NaN       6 Lifetime Reviews   \n",
       "2            NaN                  NaN    1824 Lifetime Reviews   \n",
       "3            NaN                  NaN        1 Lifetime Review   \n",
       "4            NaN                  NaN    1824 Lifetime Reviews   \n",
       "\n",
       "   DealerRater Star Rating                                    DealerRater URL  \n",
       "0                      5.0  https://www.dealerrater.ca/dealer/Roy-Nichols-...  \n",
       "1                      3.4  https://www.dealerrater.ca/dealer/Jeff-Smith-s...  \n",
       "2                      1.8  https://www.dealerrater.ca/dealer/The-Humbervi...  \n",
       "3                      1.0  https://www.dealerrater.ca/dealer/Upper-Canada...  \n",
       "4                      NaN  https://www.dealerrater.ca/dealer/Bill-Spencer...  "
      ]
     },
     "execution_count": 533,
     "metadata": {},
     "output_type": "execute_result"
    }
   ],
   "source": [
    "df.head()"
   ]
  },
  {
   "cell_type": "markdown",
   "metadata": {},
   "source": [
    "### Export CSV"
   ]
  },
  {
   "cell_type": "code",
   "execution_count": 534,
   "metadata": {},
   "outputs": [],
   "source": [
    "df.to_csv(\"\" + CSV_name + \".csv\",index=False, header =False)"
   ]
  },
  {
   "cell_type": "code",
   "execution_count": null,
   "metadata": {},
   "outputs": [],
   "source": []
  },
  {
   "cell_type": "code",
   "execution_count": null,
   "metadata": {},
   "outputs": [],
   "source": []
  },
  {
   "cell_type": "code",
   "execution_count": null,
   "metadata": {},
   "outputs": [],
   "source": []
  },
  {
   "cell_type": "markdown",
   "metadata": {},
   "source": [
    "# Getting Data Review Ready"
   ]
  },
  {
   "cell_type": "code",
   "execution_count": 163,
   "metadata": {},
   "outputs": [],
   "source": [
    "from random import randint\n",
    "from time import sleep\n",
    "import requests\n",
    "import json\n",
    "from bs4 import BeautifulSoup\n",
    "import re\n",
    "\n",
    "#sleep(randint(10,100))"
   ]
  },
  {
   "cell_type": "code",
   "execution_count": 167,
   "metadata": {},
   "outputs": [],
   "source": [
    "df = pd.read_csv('Master North American OEM Dealerships - Alabama AL.csv')"
   ]
  },
  {
   "cell_type": "code",
   "execution_count": 168,
   "metadata": {},
   "outputs": [],
   "source": [
    "State =df['State']\n",
    "CSV_name = State[0]"
   ]
  },
  {
   "cell_type": "code",
   "execution_count": 169,
   "metadata": {},
   "outputs": [],
   "source": [
    "df[\"Keywords\"] = df[\"Dealership\"].map(str) + \" \" + df[\"City \"] "
   ]
  },
  {
   "cell_type": "code",
   "execution_count": 170,
   "metadata": {},
   "outputs": [],
   "source": [
    "lst = df['Dealership']\n",
    "lst = [w.replace('&', 'and') for w in lst]\n",
    "df['Dealership'] =lst\n",
    "# & Symbols mess with the way that Google presents the dealership, so we start by replacing those symbols in the data"
   ]
  },
  {
   "cell_type": "code",
   "execution_count": 171,
   "metadata": {},
   "outputs": [],
   "source": [
    "def Gog_Rat (dealer):\n",
    "    try:\n",
    "        site_text = requests.get(\"https://google.com/search?q='\" + dealer + \"'\").text\n",
    "        soup = BeautifulSoup(site_text, 'html.parser')\n",
    "        sleep(randint(1,3))\n",
    "        return soup.find('div', class_='BNeawe tAd8D AP7Wnd').find('span').text\n",
    "    except AttributeError:\n",
    "        print (\"Nope\")\n",
    "#This is the main code to retrieve the review data. It is extremly difficult to find a better class and span \n",
    "#that are consistently reliable. It has a random 1-3 second delay built in as a precaution. This could be reduced to \n",
    "#improve the speed"
   ]
  },
  {
   "cell_type": "code",
   "execution_count": null,
   "metadata": {},
   "outputs": [
    {
     "name": "stdout",
     "output_type": "stream",
     "text": [
      "Nope\n",
      "Nope\n",
      "Nope\n"
     ]
    }
   ],
   "source": [
    "df['reviews'] = df['Keywords'].apply(Gog_Rat)"
   ]
  },
  {
   "cell_type": "code",
   "execution_count": null,
   "metadata": {},
   "outputs": [],
   "source": [
    "def Get_Only_nums (dealer):\n",
    "    a = re.sub(\"[^0-9.()]\", \"\", str(dealer))\n",
    "    return a\n",
    "#With the addition of .find('span') in our Web Scrape this may not be neccesary, but it is a precaution"
   ]
  },
  {
   "cell_type": "code",
   "execution_count": null,
   "metadata": {},
   "outputs": [],
   "source": [
    "df['Google_Review'] = df['reviews'].apply(Get_Only_nums)"
   ]
  },
  {
   "cell_type": "code",
   "execution_count": null,
   "metadata": {},
   "outputs": [],
   "source": [
    "df['Google Rating'] = df.Google_Review.str[0:3]"
   ]
  },
  {
   "cell_type": "code",
   "execution_count": null,
   "metadata": {},
   "outputs": [],
   "source": [
    "def Get_review (dealer):\n",
    "    m= re.search('\\(([^)]+)', str(dealer))\n",
    "    if m is None:\n",
    "        return None  \n",
    "    return m.group(1)"
   ]
  },
  {
   "cell_type": "code",
   "execution_count": null,
   "metadata": {},
   "outputs": [],
   "source": [
    "df['# of Google Reviews'] = df['Google_Review'].apply(Get_review)"
   ]
  },
  {
   "cell_type": "code",
   "execution_count": null,
   "metadata": {},
   "outputs": [],
   "source": [
    "df.loc[df['# of Google Reviews'].isnull(), '# of Google Reviews']='None'"
   ]
  },
  {
   "cell_type": "markdown",
   "metadata": {},
   "source": [
    "# Pass Through 2\n",
    "### Search with Dealership and Address"
   ]
  },
  {
   "cell_type": "code",
   "execution_count": null,
   "metadata": {},
   "outputs": [],
   "source": [
    "booleanDictionary = {'nothing': 'stuff', 'Trash': 'FALSE'}"
   ]
  },
  {
   "cell_type": "code",
   "execution_count": null,
   "metadata": {},
   "outputs": [],
   "source": [
    "df['Google Rating'] = np.where(df['# of Google Reviews'] == 'None', df['Google Rating'].map(booleanDictionary), df['Google Rating'])\n",
    "# This makes sure that Google Rating and # of Google Reviews both are unified if one of the two have 'None'\n"
   ]
  },
  {
   "cell_type": "code",
   "execution_count": null,
   "metadata": {},
   "outputs": [],
   "source": [
    "df.loc[df['Google Rating'].isnull(), 'Google Rating']='None'\n"
   ]
  },
  {
   "cell_type": "code",
   "execution_count": null,
   "metadata": {},
   "outputs": [],
   "source": [
    "df[\"Keywords2\"] = df[\"Dealership\"].map(str) + \" \" + df[\"Address \"]"
   ]
  },
  {
   "cell_type": "code",
   "execution_count": null,
   "metadata": {},
   "outputs": [],
   "source": [
    "df['reviews2'] = np.where(df['Google Rating'] == 'None', df['Keywords2'].apply(Gog_Rat), df['reviews'])"
   ]
  },
  {
   "cell_type": "code",
   "execution_count": null,
   "metadata": {},
   "outputs": [],
   "source": [
    "df['Google Rating'] = np.where(df['Google Rating'] == 'None', df['reviews2'].str[0:4], df['Google Rating'])"
   ]
  },
  {
   "cell_type": "code",
   "execution_count": null,
   "metadata": {},
   "outputs": [],
   "source": [
    "df['# of Google Reviews'] = np.where(df['# of Google Reviews']=='None', df['reviews2'].apply(Get_review), df['# of Google Reviews'])"
   ]
  },
  {
   "cell_type": "code",
   "execution_count": null,
   "metadata": {},
   "outputs": [],
   "source": [
    "df.loc[df['Google Rating'].isnull(), 'Google Rating']='None'"
   ]
  },
  {
   "cell_type": "code",
   "execution_count": null,
   "metadata": {},
   "outputs": [],
   "source": [
    "df[\"Keywords3\"] = df[\"Dealership\"].map(str) + \" \" + df[\"Address \"]+ \" \"+ df[\"City \"]"
   ]
  },
  {
   "cell_type": "code",
   "execution_count": null,
   "metadata": {},
   "outputs": [],
   "source": [
    "print (df['Google Rating'].value_counts())"
   ]
  },
  {
   "cell_type": "markdown",
   "metadata": {},
   "source": [
    "# Pass Through 3\n",
    "### Search with Dealership, Address, and City"
   ]
  },
  {
   "cell_type": "code",
   "execution_count": null,
   "metadata": {},
   "outputs": [],
   "source": [
    "df.loc[df['# of Google Reviews'].isnull(), '# of Google Reviews']='None'"
   ]
  },
  {
   "cell_type": "code",
   "execution_count": null,
   "metadata": {},
   "outputs": [],
   "source": [
    "df['reviews3'] = np.where(df['Google Rating'] == 'None', df['Keywords3'].apply(Gog_Rat), df['reviews2'])"
   ]
  },
  {
   "cell_type": "code",
   "execution_count": null,
   "metadata": {},
   "outputs": [],
   "source": [
    "df['Google Rating'] = np.where(df['Google Rating'] == 'None', df['reviews3'].str[0:4], df['Google Rating'])"
   ]
  },
  {
   "cell_type": "code",
   "execution_count": null,
   "metadata": {},
   "outputs": [],
   "source": [
    "df['# of Google Reviews'] = np.where(df['# of Google Reviews']=='None', df['reviews3'].apply(Get_review), df['# of Google Reviews'])"
   ]
  },
  {
   "cell_type": "code",
   "execution_count": null,
   "metadata": {},
   "outputs": [],
   "source": [
    "print (df['Google Rating'].value_counts())"
   ]
  },
  {
   "cell_type": "markdown",
   "metadata": {},
   "source": [
    "# Pass Through 4 \n",
    "### Only search with Dealership Name"
   ]
  },
  {
   "cell_type": "code",
   "execution_count": null,
   "metadata": {},
   "outputs": [],
   "source": [
    "df.loc[df['Google Rating'].isnull(), 'Google Rating']='None'\n",
    "df.loc[df['# of Google Reviews'].isnull(), '# of Google Reviews']='None'"
   ]
  },
  {
   "cell_type": "code",
   "execution_count": null,
   "metadata": {},
   "outputs": [],
   "source": [
    "df['reviews4'] = np.where(df['Google Rating'] == 'None', df['Dealership'].apply(Gog_Rat), df['reviews3'])"
   ]
  },
  {
   "cell_type": "code",
   "execution_count": null,
   "metadata": {},
   "outputs": [],
   "source": [
    "df.loc[df['# of Google Reviews'].isnull(), '# of Google Reviews']='None'"
   ]
  },
  {
   "cell_type": "code",
   "execution_count": null,
   "metadata": {},
   "outputs": [],
   "source": [
    "df.loc[df['Google Rating'].isnull(), 'Google Rating']='None'"
   ]
  },
  {
   "cell_type": "code",
   "execution_count": null,
   "metadata": {},
   "outputs": [],
   "source": [
    "df['Google Rating'] = np.where(df['Google Rating'] == 'None', df['reviews4'].str[0:4], df['Google Rating'])"
   ]
  },
  {
   "cell_type": "code",
   "execution_count": null,
   "metadata": {},
   "outputs": [],
   "source": [
    "df['# of Google Reviews'] = np.where(df['# of Google Reviews']=='None',\n",
    "                                     df['reviews4'].apply(Get_review), df['# of Google Reviews'])"
   ]
  },
  {
   "cell_type": "code",
   "execution_count": null,
   "metadata": {},
   "outputs": [],
   "source": [
    "print (df['Google Rating'].value_counts())"
   ]
  },
  {
   "cell_type": "markdown",
   "metadata": {},
   "source": [
    "# Clean and Export"
   ]
  },
  {
   "cell_type": "code",
   "execution_count": null,
   "metadata": {},
   "outputs": [],
   "source": [
    "df.columns"
   ]
  },
  {
   "cell_type": "code",
   "execution_count": null,
   "metadata": {},
   "outputs": [],
   "source": [
    "del df['reviews4']\n",
    "del df['Keywords']\n",
    "del df['Google_Review']\n",
    "del df['Keywords3']\n",
    "del df['reviews']\n",
    "del df['Keywords2']\n",
    "del df['reviews2']\n",
    "del df['reviews3']"
   ]
  },
  {
   "cell_type": "code",
   "execution_count": null,
   "metadata": {},
   "outputs": [],
   "source": [
    "df.loc[df['# of Google Reviews'].isnull(), '# of Google Reviews']='None Found'\n",
    "df.loc[df['Google Rating'].isnull(), 'Google Rating']='None Found'"
   ]
  },
  {
   "cell_type": "code",
   "execution_count": null,
   "metadata": {},
   "outputs": [],
   "source": [
    "df.to_csv(\"\" + CSV_name + \" REVIEWs.csv\",index=False)"
   ]
  },
  {
   "cell_type": "code",
   "execution_count": null,
   "metadata": {},
   "outputs": [],
   "source": []
  },
  {
   "cell_type": "markdown",
   "metadata": {},
   "source": [
    "### Possibly using Selenium to find if a text/code exists on a webpage"
   ]
  },
  {
   "cell_type": "markdown",
   "metadata": {},
   "source": [
    "https://stackoverflow.com/questions/11454798/how-can-i-check-if-some-text-exist-or-not-in-the-page-using-selenium/11464797"
   ]
  },
  {
   "cell_type": "code",
   "execution_count": 113,
   "metadata": {},
   "outputs": [
    {
     "ename": "NameError",
     "evalue": "name 'driver' is not defined",
     "output_type": "error",
     "traceback": [
      "\u001b[0;31m---------------------------------------------------------------------------\u001b[0m",
      "\u001b[0;31mNameError\u001b[0m                                 Traceback (most recent call last)",
      "\u001b[0;32m<ipython-input-113-af8930b69e50>\u001b[0m in \u001b[0;36m<module>\u001b[0;34m\u001b[0m\n\u001b[0;32m----> 1\u001b[0;31m \u001b[0mdriver\u001b[0m\u001b[0;34m.\u001b[0m\u001b[0mgetPageSource\u001b[0m\u001b[0;34m(\u001b[0m\u001b[0;34m)\u001b[0m\u001b[0;34m.\u001b[0m\u001b[0mcontains\u001b[0m\u001b[0;34m(\u001b[0m\u001b[0;34m\"Text which you looking for\"\u001b[0m\u001b[0;34m)\u001b[0m\u001b[0;34m;\u001b[0m\u001b[0;34m\u001b[0m\u001b[0;34m\u001b[0m\u001b[0m\n\u001b[0m",
      "\u001b[0;31mNameError\u001b[0m: name 'driver' is not defined"
     ]
    }
   ],
   "source": [
    "driver.getPageSource().contains(\"Text which you looking for\");\n"
   ]
  },
  {
   "cell_type": "code",
   "execution_count": 112,
   "metadata": {},
   "outputs": [
    {
     "ename": "WebDriverException",
     "evalue": "Message: 'geckodriver.exe' executable needs to be in PATH. \n",
     "output_type": "error",
     "traceback": [
      "\u001b[0;31m---------------------------------------------------------------------------\u001b[0m",
      "\u001b[0;31mFileNotFoundError\u001b[0m                         Traceback (most recent call last)",
      "\u001b[0;32m~/anaconda3/lib/python3.7/site-packages/selenium/webdriver/common/service.py\u001b[0m in \u001b[0;36mstart\u001b[0;34m(self)\u001b[0m\n\u001b[1;32m     75\u001b[0m                                             \u001b[0mstderr\u001b[0m\u001b[0;34m=\u001b[0m\u001b[0mself\u001b[0m\u001b[0;34m.\u001b[0m\u001b[0mlog_file\u001b[0m\u001b[0;34m,\u001b[0m\u001b[0;34m\u001b[0m\u001b[0;34m\u001b[0m\u001b[0m\n\u001b[0;32m---> 76\u001b[0;31m                                             stdin=PIPE)\n\u001b[0m\u001b[1;32m     77\u001b[0m         \u001b[0;32mexcept\u001b[0m \u001b[0mTypeError\u001b[0m\u001b[0;34m:\u001b[0m\u001b[0;34m\u001b[0m\u001b[0;34m\u001b[0m\u001b[0m\n",
      "\u001b[0;32m~/anaconda3/lib/python3.7/subprocess.py\u001b[0m in \u001b[0;36m__init__\u001b[0;34m(self, args, bufsize, executable, stdin, stdout, stderr, preexec_fn, close_fds, shell, cwd, env, universal_newlines, startupinfo, creationflags, restore_signals, start_new_session, pass_fds, encoding, errors, text)\u001b[0m\n\u001b[1;32m    774\u001b[0m                                 \u001b[0merrread\u001b[0m\u001b[0;34m,\u001b[0m \u001b[0merrwrite\u001b[0m\u001b[0;34m,\u001b[0m\u001b[0;34m\u001b[0m\u001b[0;34m\u001b[0m\u001b[0m\n\u001b[0;32m--> 775\u001b[0;31m                                 restore_signals, start_new_session)\n\u001b[0m\u001b[1;32m    776\u001b[0m         \u001b[0;32mexcept\u001b[0m\u001b[0;34m:\u001b[0m\u001b[0;34m\u001b[0m\u001b[0;34m\u001b[0m\u001b[0m\n",
      "\u001b[0;32m~/anaconda3/lib/python3.7/subprocess.py\u001b[0m in \u001b[0;36m_execute_child\u001b[0;34m(self, args, executable, preexec_fn, close_fds, pass_fds, cwd, env, startupinfo, creationflags, shell, p2cread, p2cwrite, c2pread, c2pwrite, errread, errwrite, restore_signals, start_new_session)\u001b[0m\n\u001b[1;32m   1521\u001b[0m                             \u001b[0merr_msg\u001b[0m \u001b[0;34m+=\u001b[0m \u001b[0;34m': '\u001b[0m \u001b[0;34m+\u001b[0m \u001b[0mrepr\u001b[0m\u001b[0;34m(\u001b[0m\u001b[0merr_filename\u001b[0m\u001b[0;34m)\u001b[0m\u001b[0;34m\u001b[0m\u001b[0;34m\u001b[0m\u001b[0m\n\u001b[0;32m-> 1522\u001b[0;31m                     \u001b[0;32mraise\u001b[0m \u001b[0mchild_exception_type\u001b[0m\u001b[0;34m(\u001b[0m\u001b[0merrno_num\u001b[0m\u001b[0;34m,\u001b[0m \u001b[0merr_msg\u001b[0m\u001b[0;34m,\u001b[0m \u001b[0merr_filename\u001b[0m\u001b[0;34m)\u001b[0m\u001b[0;34m\u001b[0m\u001b[0;34m\u001b[0m\u001b[0m\n\u001b[0m\u001b[1;32m   1523\u001b[0m                 \u001b[0;32mraise\u001b[0m \u001b[0mchild_exception_type\u001b[0m\u001b[0;34m(\u001b[0m\u001b[0merr_msg\u001b[0m\u001b[0;34m)\u001b[0m\u001b[0;34m\u001b[0m\u001b[0;34m\u001b[0m\u001b[0m\n",
      "\u001b[0;31mFileNotFoundError\u001b[0m: [Errno 2] No such file or directory: '<Path>/geckodriver.exe': '<Path>/geckodriver.exe'",
      "\nDuring handling of the above exception, another exception occurred:\n",
      "\u001b[0;31mWebDriverException\u001b[0m                        Traceback (most recent call last)",
      "\u001b[0;32m<ipython-input-112-1b28fca41f2d>\u001b[0m in \u001b[0;36m<module>\u001b[0;34m\u001b[0m\n\u001b[1;32m      2\u001b[0m \u001b[0;34m\u001b[0m\u001b[0m\n\u001b[1;32m      3\u001b[0m \u001b[0;31m# to open Firefox web browser and maximize the window\u001b[0m\u001b[0;34m\u001b[0m\u001b[0;34m\u001b[0m\u001b[0;34m\u001b[0m\u001b[0m\n\u001b[0;32m----> 4\u001b[0;31m \u001b[0mbrowser\u001b[0m \u001b[0;34m=\u001b[0m \u001b[0mwebdriver\u001b[0m\u001b[0;34m.\u001b[0m\u001b[0mFirefox\u001b[0m\u001b[0;34m(\u001b[0m\u001b[0mexecutable_path\u001b[0m\u001b[0;34m=\u001b[0m\u001b[0;34m'<Path>/geckodriver.exe'\u001b[0m\u001b[0;34m)\u001b[0m\u001b[0;34m\u001b[0m\u001b[0;34m\u001b[0m\u001b[0m\n\u001b[0m\u001b[1;32m      5\u001b[0m \u001b[0mbrowser\u001b[0m\u001b[0;34m.\u001b[0m\u001b[0mmaximize_window\u001b[0m\u001b[0;34m(\u001b[0m\u001b[0;34m)\u001b[0m\u001b[0;34m\u001b[0m\u001b[0;34m\u001b[0m\u001b[0m\n\u001b[1;32m      6\u001b[0m \u001b[0;34m\u001b[0m\u001b[0m\n",
      "\u001b[0;32m~/anaconda3/lib/python3.7/site-packages/selenium/webdriver/firefox/webdriver.py\u001b[0m in \u001b[0;36m__init__\u001b[0;34m(self, firefox_profile, firefox_binary, timeout, capabilities, proxy, executable_path, options, service_log_path, firefox_options, service_args, desired_capabilities, log_path, keep_alive)\u001b[0m\n\u001b[1;32m    162\u001b[0m                 \u001b[0mservice_args\u001b[0m\u001b[0;34m=\u001b[0m\u001b[0mservice_args\u001b[0m\u001b[0;34m,\u001b[0m\u001b[0;34m\u001b[0m\u001b[0;34m\u001b[0m\u001b[0m\n\u001b[1;32m    163\u001b[0m                 log_path=service_log_path)\n\u001b[0;32m--> 164\u001b[0;31m             \u001b[0mself\u001b[0m\u001b[0;34m.\u001b[0m\u001b[0mservice\u001b[0m\u001b[0;34m.\u001b[0m\u001b[0mstart\u001b[0m\u001b[0;34m(\u001b[0m\u001b[0;34m)\u001b[0m\u001b[0;34m\u001b[0m\u001b[0;34m\u001b[0m\u001b[0m\n\u001b[0m\u001b[1;32m    165\u001b[0m \u001b[0;34m\u001b[0m\u001b[0m\n\u001b[1;32m    166\u001b[0m             \u001b[0mcapabilities\u001b[0m\u001b[0;34m.\u001b[0m\u001b[0mupdate\u001b[0m\u001b[0;34m(\u001b[0m\u001b[0moptions\u001b[0m\u001b[0;34m.\u001b[0m\u001b[0mto_capabilities\u001b[0m\u001b[0;34m(\u001b[0m\u001b[0;34m)\u001b[0m\u001b[0;34m)\u001b[0m\u001b[0;34m\u001b[0m\u001b[0;34m\u001b[0m\u001b[0m\n",
      "\u001b[0;32m~/anaconda3/lib/python3.7/site-packages/selenium/webdriver/common/service.py\u001b[0m in \u001b[0;36mstart\u001b[0;34m(self)\u001b[0m\n\u001b[1;32m     81\u001b[0m                 raise WebDriverException(\n\u001b[1;32m     82\u001b[0m                     \"'%s' executable needs to be in PATH. %s\" % (\n\u001b[0;32m---> 83\u001b[0;31m                         os.path.basename(self.path), self.start_error_message)\n\u001b[0m\u001b[1;32m     84\u001b[0m                 )\n\u001b[1;32m     85\u001b[0m             \u001b[0;32melif\u001b[0m \u001b[0merr\u001b[0m\u001b[0;34m.\u001b[0m\u001b[0merrno\u001b[0m \u001b[0;34m==\u001b[0m \u001b[0merrno\u001b[0m\u001b[0;34m.\u001b[0m\u001b[0mEACCES\u001b[0m\u001b[0;34m:\u001b[0m\u001b[0;34m\u001b[0m\u001b[0;34m\u001b[0m\u001b[0m\n",
      "\u001b[0;31mWebDriverException\u001b[0m: Message: 'geckodriver.exe' executable needs to be in PATH. \n"
     ]
    }
   ],
   "source": [
    "from selenium import webdriver\n",
    " \n",
    "# to open Firefox web browser and maximize the window\n",
    "browser = webdriver.Firefox(executable_path='<Path>/geckodriver.exe')\n",
    "browser.maximize_window()\n",
    " \n",
    "#connect to the specific URL\n",
    "browser.get(\"http://192.168.1.1:8090/httpclient.html\")\n",
    " \n",
    "assert browser.page_source.find(\"Cyberoam Captive Portal\")"
   ]
  },
  {
   "cell_type": "code",
   "execution_count": 5,
   "metadata": {},
   "outputs": [
    {
     "ename": "ModuleNotFoundError",
     "evalue": "No module named 'urllib.requests'",
     "output_type": "error",
     "traceback": [
      "\u001b[0;31m---------------------------------------------------------------------------\u001b[0m",
      "\u001b[0;31mModuleNotFoundError\u001b[0m                       Traceback (most recent call last)",
      "\u001b[0;32m<ipython-input-5-5e156172ad0b>\u001b[0m in \u001b[0;36m<module>\u001b[0;34m\u001b[0m\n\u001b[0;32m----> 1\u001b[0;31m \u001b[0;32mimport\u001b[0m \u001b[0murllib\u001b[0m\u001b[0;34m.\u001b[0m\u001b[0mrequests\u001b[0m\u001b[0;34m\u001b[0m\u001b[0;34m\u001b[0m\u001b[0m\n\u001b[0m\u001b[1;32m      2\u001b[0m \u001b[0;32mimport\u001b[0m \u001b[0mre\u001b[0m\u001b[0;34m\u001b[0m\u001b[0;34m\u001b[0m\u001b[0m\n\u001b[1;32m      3\u001b[0m \u001b[0;34m\u001b[0m\u001b[0m\n\u001b[1;32m      4\u001b[0m \u001b[0mhtml_content\u001b[0m \u001b[0;34m=\u001b[0m \u001b[0murllib\u001b[0m\u001b[0;34m.\u001b[0m\u001b[0mrequests\u001b[0m\u001b[0;34m.\u001b[0m\u001b[0murlopen\u001b[0m\u001b[0;34m(\u001b[0m\u001b[0;34m'http://www.domain.com'\u001b[0m\u001b[0;34m)\u001b[0m\u001b[0;34m.\u001b[0m\u001b[0mread\u001b[0m\u001b[0;34m(\u001b[0m\u001b[0;34m)\u001b[0m\u001b[0;34m\u001b[0m\u001b[0;34m\u001b[0m\u001b[0m\n\u001b[1;32m      5\u001b[0m \u001b[0;34m\u001b[0m\u001b[0m\n",
      "\u001b[0;31mModuleNotFoundError\u001b[0m: No module named 'urllib.requests'"
     ]
    }
   ],
   "source": [
    "import urllib.requests\n",
    "import re\n",
    "\n",
    "html_content = urllib.requests.urlopen('http://www.domain.com').read()\n",
    "\n",
    "matches = re.findall('regex of string to find', html_content);\n",
    "\n",
    "if len(matches) == 0: \n",
    "   print ('I did not find anything')\n",
    "else:\n",
    "   print ('My string is in the html')"
   ]
  },
  {
   "cell_type": "markdown",
   "metadata": {},
   "source": [
    "https://stackoverflow.com/questions/4925966/searching-through-webpage"
   ]
  }
 ],
 "metadata": {
  "kernelspec": {
   "display_name": "Python 3",
   "language": "python",
   "name": "python3"
  },
  "language_info": {
   "codemirror_mode": {
    "name": "ipython",
    "version": 3
   },
   "file_extension": ".py",
   "mimetype": "text/x-python",
   "name": "python",
   "nbconvert_exporter": "python",
   "pygments_lexer": "ipython3",
   "version": "3.7.3"
  }
 },
 "nbformat": 4,
 "nbformat_minor": 2
}
